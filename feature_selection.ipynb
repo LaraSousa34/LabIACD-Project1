{
 "cells": [
  {
   "cell_type": "markdown",
   "metadata": {},
   "source": [
    "# Feature Selection"
   ]
  },
  {
   "cell_type": "code",
   "execution_count": 140,
   "metadata": {},
   "outputs": [],
   "source": [
    "import pandas as pd\n",
    "import re\n",
    "import matplotlib.pyplot as plt\n",
    "import seaborn as sns\n",
    "import numpy as np\n",
    "import warnings\n",
    "from sklearn.ensemble import RandomForestClassifier\n",
    "from sklearn.model_selection import cross_val_score, train_test_split\n",
    "from sklearn.model_selection import StratifiedKFold, cross_val_score, train_test_split\n",
    "\n",
    "from sklearn.impute import SimpleImputer\n",
    "from sklearn.feature_selection import RFECV, VarianceThreshold, SelectKBest, mutual_info_classif, SelectKBest, SequentialFeatureSelector\n",
    "from sklearn.linear_model import Lasso\n",
    "from sklearn.base import BaseEstimator\n",
    "from sklearn.metrics import accuracy_score, recall_score, precision_score, f1_score, roc_auc_score, roc_curve, auc, confusion_matrix\n",
    "from sklearn.neighbors import KNeighborsClassifier"
   ]
  },
  {
   "cell_type": "code",
   "execution_count": 141,
   "metadata": {},
   "outputs": [],
   "source": [
    "with warnings.catch_warnings():\n",
    "    warnings.simplefilter(\"ignore\")"
   ]
  },
  {
   "cell_type": "code",
   "execution_count": 142,
   "metadata": {},
   "outputs": [
    {
     "name": "stdout",
     "output_type": "stream",
     "text": [
      "Missing values in Diagnosis at the Patient Level\n",
      "0=Unknown\n",
      "1=benign or non-malignant disease\n",
      "2= malignant, primary lung cancer\n",
      "3 = malignant metastatic\n",
      ": 847\n",
      "Missing values in Diagnosis Method\n",
      "0 = unknown\n",
      "1 = review of radiological images to show 2 years of stable nodule\n",
      "2 = biopsy\n",
      "3 = surgical resection\n",
      "4 = progression or response: 847\n",
      "Missing values in Primary tumor site for metastatic disease: 847\n",
      "Missing values in Diagnosis Nodule 1: 865\n",
      "Missing values in Diagnosis Method Nodule 1: 865\n",
      "Missing values in Diagnosis Nodule 2: 954\n",
      "Missing values in Diagnosis Method Nodule 2: 954\n",
      "Missing values in Diagnosis Nodule 3: 966\n",
      "Missing values in Diagnosis Method Nodule 3: 966\n",
      "Missing values in Diagnosis Nodule 4: 966\n",
      "Missing values in Diagnosis Method Nodule 4: 966\n",
      "Missing values in Diagnosis Nodule 5: 966\n",
      "Missing values in Diagnosis Method Nodule 5: 966\n",
      "Missing values in Diagnosis at the Patient Level\n",
      "0=Unknown\n",
      "1=benign or non-malignant disease\n",
      "2= malignant, primary lung cancer\n",
      "3 = malignant metastatic\n",
      ": 1416\n",
      "Missing values in Diagnosis Method\n",
      "0 = unknown\n",
      "1 = review of radiological images to show 2 years of stable nodule\n",
      "2 = biopsy\n",
      "3 = surgical resection\n",
      "4 = progression or response: 1416\n",
      "Missing values in Primary tumor site for metastatic disease: 1416\n",
      "Missing values in Diagnosis Nodule 1: 1448\n",
      "Missing values in Diagnosis Method Nodule 1: 1448\n",
      "Missing values in Diagnosis Nodule 2: 1627\n",
      "Missing values in Diagnosis Method Nodule 2: 1627\n",
      "Missing values in Diagnosis Nodule 3: 1655\n",
      "Missing values in Diagnosis Method Nodule 3: 1655\n",
      "Missing values in Diagnosis Nodule 4: 1656\n",
      "Missing values in Diagnosis Method Nodule 4: 1656\n",
      "Missing values in Diagnosis Nodule 5: 1656\n",
      "Missing values in Diagnosis Method Nodule 5: 1656\n",
      "Missing values in Diagnosis at the Patient Level\n",
      "0=Unknown\n",
      "1=benign or non-malignant disease\n",
      "2= malignant, primary lung cancer\n",
      "3 = malignant metastatic\n",
      ": 1416\n",
      "Missing values in Diagnosis Method\n",
      "0 = unknown\n",
      "1 = review of radiological images to show 2 years of stable nodule\n",
      "2 = biopsy\n",
      "3 = surgical resection\n",
      "4 = progression or response: 1416\n",
      "Missing values in Primary tumor site for metastatic disease: 1416\n",
      "Missing values in Diagnosis Nodule 1: 1448\n",
      "Missing values in Diagnosis Method Nodule 1: 1448\n",
      "Missing values in Diagnosis Nodule 2: 1627\n",
      "Missing values in Diagnosis Method Nodule 2: 1627\n",
      "Missing values in Diagnosis Nodule 3: 1655\n",
      "Missing values in Diagnosis Method Nodule 3: 1655\n",
      "Missing values in Diagnosis Nodule 4: 1656\n",
      "Missing values in Diagnosis Method Nodule 4: 1656\n",
      "Missing values in Diagnosis Nodule 5: 1656\n",
      "Missing values in Diagnosis Method Nodule 5: 1656\n",
      "Column with missing values: Diagnosis Nodule 1\n",
      "Rows with missing values in this column: [330, 331, 362, 429, 430, 431, 432, 537, 538, 539, 540, 541, 542, 837, 853, 854, 876, 878]\n",
      "\n",
      "Column with missing values: Diagnosis Method Nodule 1\n",
      "Rows with missing values in this column: [330, 331, 362, 429, 430, 431, 432, 537, 538, 539, 540, 541, 542, 837, 853, 854, 876, 878]\n",
      "\n",
      "Column with missing values: Diagnosis Nodule 2\n",
      "Rows with missing values in this column: [66, 80, 100, 101, 102, 104, 105, 106, 107, 108, 109, 110, 111, 112, 117, 118, 129, 130, 141, 142, 143, 144, 145, 146, 149, 150, 151, 152, 153, 154, 155, 158, 159, 160, 161, 162, 163, 164, 165, 166, 167, 168, 169, 170, 171, 172, 173, 174, 175, 176, 177, 178, 179, 180, 181, 182, 185, 193, 194, 198, 199, 200, 201, 202, 203, 204, 210, 211, 212, 213, 214, 216, 217, 218, 219, 220, 221, 223, 297, 301, 326, 330, 331, 362, 429, 430, 431, 432, 479, 537, 538, 539, 540, 541, 542, 837, 853, 854, 876, 878, 889, 890, 935, 936, 937, 953, 964]\n",
      "\n",
      "Column with missing values: Diagnosis Method Nodule 2\n",
      "Rows with missing values in this column: [66, 80, 100, 101, 102, 104, 105, 106, 107, 108, 109, 110, 111, 112, 117, 118, 129, 130, 141, 142, 143, 144, 145, 146, 149, 150, 151, 152, 153, 154, 155, 158, 159, 160, 161, 162, 163, 164, 165, 166, 167, 168, 169, 170, 171, 172, 173, 174, 175, 176, 177, 178, 179, 180, 181, 182, 185, 193, 194, 198, 199, 200, 201, 202, 203, 204, 210, 211, 212, 213, 214, 216, 217, 218, 219, 220, 221, 223, 297, 301, 326, 330, 331, 362, 429, 430, 431, 432, 479, 537, 538, 539, 540, 541, 542, 837, 853, 854, 876, 878, 889, 890, 935, 936, 937, 953, 964]\n",
      "\n",
      "Column with missing values: Diagnosis Nodule 3\n",
      "Rows with missing values in this column: [66, 80, 100, 101, 102, 104, 105, 106, 107, 108, 109, 110, 111, 112, 117, 118, 129, 130, 141, 142, 143, 144, 145, 146, 149, 150, 151, 152, 153, 154, 155, 156, 157, 158, 159, 160, 161, 162, 163, 164, 165, 166, 167, 168, 169, 170, 171, 172, 173, 174, 175, 176, 177, 178, 179, 180, 181, 182, 185, 193, 194, 196, 198, 199, 200, 201, 202, 203, 204, 210, 211, 212, 213, 214, 215, 216, 217, 218, 219, 220, 221, 223, 224, 225, 226, 227, 258, 259, 297, 301, 326, 330, 331, 362, 381, 429, 430, 431, 432, 479, 537, 538, 539, 540, 541, 542, 837, 853, 854, 876, 878, 889, 890, 935, 936, 937, 953, 964, 965]\n",
      "\n",
      "Column with missing values: Diagnosis Method Nodule 3\n",
      "Rows with missing values in this column: [66, 80, 100, 101, 102, 104, 105, 106, 107, 108, 109, 110, 111, 112, 117, 118, 129, 130, 141, 142, 143, 144, 145, 146, 149, 150, 151, 152, 153, 154, 155, 156, 157, 158, 159, 160, 161, 162, 163, 164, 165, 166, 167, 168, 169, 170, 171, 172, 173, 174, 175, 176, 177, 178, 179, 180, 181, 182, 185, 193, 194, 196, 198, 199, 200, 201, 202, 203, 204, 210, 211, 212, 213, 214, 215, 216, 217, 218, 219, 220, 221, 223, 224, 225, 226, 227, 258, 259, 297, 301, 326, 330, 331, 362, 381, 429, 430, 431, 432, 479, 537, 538, 539, 540, 541, 542, 837, 853, 854, 876, 878, 889, 890, 935, 936, 937, 953, 964, 965]\n",
      "\n",
      "Column with missing values: Diagnosis Nodule 4\n",
      "Rows with missing values in this column: [66, 80, 100, 101, 102, 104, 105, 106, 107, 108, 109, 110, 111, 112, 117, 118, 129, 130, 141, 142, 143, 144, 145, 146, 149, 150, 151, 152, 153, 154, 155, 156, 157, 158, 159, 160, 161, 162, 163, 164, 165, 166, 167, 168, 169, 170, 171, 172, 173, 174, 175, 176, 177, 178, 179, 180, 181, 182, 185, 193, 194, 196, 198, 199, 200, 201, 202, 203, 204, 210, 211, 212, 213, 214, 215, 216, 217, 218, 219, 220, 221, 223, 224, 225, 226, 227, 258, 259, 297, 301, 326, 330, 331, 362, 381, 429, 430, 431, 432, 479, 537, 538, 539, 540, 541, 542, 837, 853, 854, 876, 878, 889, 890, 935, 936, 937, 953, 964, 965]\n",
      "\n",
      "Column with missing values: Diagnosis Method Nodule 4\n",
      "Rows with missing values in this column: [66, 80, 100, 101, 102, 104, 105, 106, 107, 108, 109, 110, 111, 112, 117, 118, 129, 130, 141, 142, 143, 144, 145, 146, 149, 150, 151, 152, 153, 154, 155, 156, 157, 158, 159, 160, 161, 162, 163, 164, 165, 166, 167, 168, 169, 170, 171, 172, 173, 174, 175, 176, 177, 178, 179, 180, 181, 182, 185, 193, 194, 196, 198, 199, 200, 201, 202, 203, 204, 210, 211, 212, 213, 214, 215, 216, 217, 218, 219, 220, 221, 223, 224, 225, 226, 227, 258, 259, 297, 301, 326, 330, 331, 362, 381, 429, 430, 431, 432, 479, 537, 538, 539, 540, 541, 542, 837, 853, 854, 876, 878, 889, 890, 935, 936, 937, 953, 964, 965]\n",
      "\n",
      "Column with missing values: Diagnosis Nodule 5\n",
      "Rows with missing values in this column: [66, 80, 100, 101, 102, 104, 105, 106, 107, 108, 109, 110, 111, 112, 117, 118, 129, 130, 141, 142, 143, 144, 145, 146, 149, 150, 151, 152, 153, 154, 155, 156, 157, 158, 159, 160, 161, 162, 163, 164, 165, 166, 167, 168, 169, 170, 171, 172, 173, 174, 175, 176, 177, 178, 179, 180, 181, 182, 185, 193, 194, 196, 198, 199, 200, 201, 202, 203, 204, 210, 211, 212, 213, 214, 215, 216, 217, 218, 219, 220, 221, 223, 224, 225, 226, 227, 258, 259, 297, 301, 326, 330, 331, 362, 381, 429, 430, 431, 432, 479, 537, 538, 539, 540, 541, 542, 837, 853, 854, 876, 878, 889, 890, 935, 936, 937, 953, 964, 965]\n",
      "\n",
      "Column with missing values: Diagnosis Method Nodule 5\n",
      "Rows with missing values in this column: [66, 80, 100, 101, 102, 104, 105, 106, 107, 108, 109, 110, 111, 112, 117, 118, 129, 130, 141, 142, 143, 144, 145, 146, 149, 150, 151, 152, 153, 154, 155, 156, 157, 158, 159, 160, 161, 162, 163, 164, 165, 166, 167, 168, 169, 170, 171, 172, 173, 174, 175, 176, 177, 178, 179, 180, 181, 182, 185, 193, 194, 196, 198, 199, 200, 201, 202, 203, 204, 210, 211, 212, 213, 214, 215, 216, 217, 218, 219, 220, 221, 223, 224, 225, 226, 227, 258, 259, 297, 301, 326, 330, 331, 362, 381, 429, 430, 431, 432, 479, 537, 538, 539, 540, 541, 542, 837, 853, 854, 876, 878, 889, 890, 935, 936, 937, 953, 964, 965]\n",
      "\n",
      "Column with missing values: Diagnosis Nodule 1\n",
      "Rows with missing values in this column: [330, 331, 362, 429, 430, 431, 432, 537, 538, 539, 540, 541, 542, 837, 853, 854, 876, 878]\n",
      "\n",
      "Column with missing values: Diagnosis Method Nodule 1\n",
      "Rows with missing values in this column: [330, 331, 362, 429, 430, 431, 432, 537, 538, 539, 540, 541, 542, 837, 853, 854, 876, 878]\n",
      "\n",
      "Column with missing values: Diagnosis Nodule 2\n",
      "Rows with missing values in this column: [66, 80, 100, 101, 102, 104, 105, 106, 107, 108, 109, 110, 111, 112, 117, 118, 129, 130, 141, 142, 143, 144, 145, 146, 149, 150, 151, 152, 153, 154, 155, 158, 159, 160, 161, 162, 163, 164, 165, 166, 167, 168, 169, 170, 171, 172, 173, 174, 175, 176, 177, 178, 179, 180, 181, 182, 185, 193, 194, 198, 199, 200, 201, 202, 203, 204, 210, 211, 212, 213, 214, 216, 217, 218, 219, 220, 221, 223, 297, 301, 326, 330, 331, 362, 429, 430, 431, 432, 479, 537, 538, 539, 540, 541, 542, 837, 853, 854, 876, 878, 889, 890, 935, 936, 937, 953, 964]\n",
      "\n",
      "Column with missing values: Diagnosis Method Nodule 2\n",
      "Rows with missing values in this column: [66, 80, 100, 101, 102, 104, 105, 106, 107, 108, 109, 110, 111, 112, 117, 118, 129, 130, 141, 142, 143, 144, 145, 146, 149, 150, 151, 152, 153, 154, 155, 158, 159, 160, 161, 162, 163, 164, 165, 166, 167, 168, 169, 170, 171, 172, 173, 174, 175, 176, 177, 178, 179, 180, 181, 182, 185, 193, 194, 198, 199, 200, 201, 202, 203, 204, 210, 211, 212, 213, 214, 216, 217, 218, 219, 220, 221, 223, 297, 301, 326, 330, 331, 362, 429, 430, 431, 432, 479, 537, 538, 539, 540, 541, 542, 837, 853, 854, 876, 878, 889, 890, 935, 936, 937, 953, 964]\n",
      "\n",
      "Column with missing values: Diagnosis Nodule 3\n",
      "Rows with missing values in this column: [66, 80, 100, 101, 102, 104, 105, 106, 107, 108, 109, 110, 111, 112, 117, 118, 129, 130, 141, 142, 143, 144, 145, 146, 149, 150, 151, 152, 153, 154, 155, 156, 157, 158, 159, 160, 161, 162, 163, 164, 165, 166, 167, 168, 169, 170, 171, 172, 173, 174, 175, 176, 177, 178, 179, 180, 181, 182, 185, 193, 194, 196, 198, 199, 200, 201, 202, 203, 204, 210, 211, 212, 213, 214, 215, 216, 217, 218, 219, 220, 221, 223, 224, 225, 226, 227, 258, 259, 297, 301, 326, 330, 331, 362, 381, 429, 430, 431, 432, 479, 537, 538, 539, 540, 541, 542, 837, 853, 854, 876, 878, 889, 890, 935, 936, 937, 953, 964, 965]\n",
      "\n",
      "Column with missing values: Diagnosis Method Nodule 3\n",
      "Rows with missing values in this column: [66, 80, 100, 101, 102, 104, 105, 106, 107, 108, 109, 110, 111, 112, 117, 118, 129, 130, 141, 142, 143, 144, 145, 146, 149, 150, 151, 152, 153, 154, 155, 156, 157, 158, 159, 160, 161, 162, 163, 164, 165, 166, 167, 168, 169, 170, 171, 172, 173, 174, 175, 176, 177, 178, 179, 180, 181, 182, 185, 193, 194, 196, 198, 199, 200, 201, 202, 203, 204, 210, 211, 212, 213, 214, 215, 216, 217, 218, 219, 220, 221, 223, 224, 225, 226, 227, 258, 259, 297, 301, 326, 330, 331, 362, 381, 429, 430, 431, 432, 479, 537, 538, 539, 540, 541, 542, 837, 853, 854, 876, 878, 889, 890, 935, 936, 937, 953, 964, 965]\n",
      "\n",
      "Column with missing values: Diagnosis Nodule 4\n",
      "Rows with missing values in this column: [66, 80, 100, 101, 102, 104, 105, 106, 107, 108, 109, 110, 111, 112, 117, 118, 129, 130, 141, 142, 143, 144, 145, 146, 149, 150, 151, 152, 153, 154, 155, 156, 157, 158, 159, 160, 161, 162, 163, 164, 165, 166, 167, 168, 169, 170, 171, 172, 173, 174, 175, 176, 177, 178, 179, 180, 181, 182, 185, 193, 194, 196, 198, 199, 200, 201, 202, 203, 204, 210, 211, 212, 213, 214, 215, 216, 217, 218, 219, 220, 221, 223, 224, 225, 226, 227, 258, 259, 297, 301, 326, 330, 331, 362, 381, 429, 430, 431, 432, 479, 537, 538, 539, 540, 541, 542, 837, 853, 854, 876, 878, 889, 890, 935, 936, 937, 953, 964, 965]\n",
      "\n",
      "Column with missing values: Diagnosis Method Nodule 4\n",
      "Rows with missing values in this column: [66, 80, 100, 101, 102, 104, 105, 106, 107, 108, 109, 110, 111, 112, 117, 118, 129, 130, 141, 142, 143, 144, 145, 146, 149, 150, 151, 152, 153, 154, 155, 156, 157, 158, 159, 160, 161, 162, 163, 164, 165, 166, 167, 168, 169, 170, 171, 172, 173, 174, 175, 176, 177, 178, 179, 180, 181, 182, 185, 193, 194, 196, 198, 199, 200, 201, 202, 203, 204, 210, 211, 212, 213, 214, 215, 216, 217, 218, 219, 220, 221, 223, 224, 225, 226, 227, 258, 259, 297, 301, 326, 330, 331, 362, 381, 429, 430, 431, 432, 479, 537, 538, 539, 540, 541, 542, 837, 853, 854, 876, 878, 889, 890, 935, 936, 937, 953, 964, 965]\n",
      "\n",
      "Column with missing values: Diagnosis Nodule 5\n",
      "Rows with missing values in this column: [66, 80, 100, 101, 102, 104, 105, 106, 107, 108, 109, 110, 111, 112, 117, 118, 129, 130, 141, 142, 143, 144, 145, 146, 149, 150, 151, 152, 153, 154, 155, 156, 157, 158, 159, 160, 161, 162, 163, 164, 165, 166, 167, 168, 169, 170, 171, 172, 173, 174, 175, 176, 177, 178, 179, 180, 181, 182, 185, 193, 194, 196, 198, 199, 200, 201, 202, 203, 204, 210, 211, 212, 213, 214, 215, 216, 217, 218, 219, 220, 221, 223, 224, 225, 226, 227, 258, 259, 297, 301, 326, 330, 331, 362, 381, 429, 430, 431, 432, 479, 537, 538, 539, 540, 541, 542, 837, 853, 854, 876, 878, 889, 890, 935, 936, 937, 953, 964, 965]\n",
      "\n",
      "Column with missing values: Diagnosis Method Nodule 5\n",
      "Rows with missing values in this column: [66, 80, 100, 101, 102, 104, 105, 106, 107, 108, 109, 110, 111, 112, 117, 118, 129, 130, 141, 142, 143, 144, 145, 146, 149, 150, 151, 152, 153, 154, 155, 156, 157, 158, 159, 160, 161, 162, 163, 164, 165, 166, 167, 168, 169, 170, 171, 172, 173, 174, 175, 176, 177, 178, 179, 180, 181, 182, 185, 193, 194, 196, 198, 199, 200, 201, 202, 203, 204, 210, 211, 212, 213, 214, 215, 216, 217, 218, 219, 220, 221, 223, 224, 225, 226, 227, 258, 259, 297, 301, 326, 330, 331, 362, 381, 429, 430, 431, 432, 479, 537, 538, 539, 540, 541, 542, 837, 853, 854, 876, 878, 889, 890, 935, 936, 937, 953, 964, 965]\n",
      "\n",
      "Column with missing values: Diagnosis Nodule 1\n",
      "Rows with missing values in this column: [330, 331, 362, 429, 430, 431, 432, 537, 538, 539, 540, 541, 542, 837, 853, 854, 876, 878]\n",
      "\n",
      "Column with missing values: Diagnosis Method Nodule 1\n",
      "Rows with missing values in this column: [330, 331, 362, 429, 430, 431, 432, 537, 538, 539, 540, 541, 542, 837, 853, 854, 876, 878]\n",
      "\n",
      "Column with missing values: Diagnosis Nodule 2\n",
      "Rows with missing values in this column: [66, 80, 100, 101, 102, 104, 105, 106, 107, 108, 109, 110, 111, 112, 117, 118, 129, 130, 141, 142, 143, 144, 145, 146, 149, 150, 151, 152, 153, 154, 155, 158, 159, 160, 161, 162, 163, 164, 165, 166, 167, 168, 169, 170, 171, 172, 173, 174, 175, 176, 177, 178, 179, 180, 181, 182, 185, 193, 194, 198, 199, 200, 201, 202, 203, 204, 210, 211, 212, 213, 214, 216, 217, 218, 219, 220, 221, 223, 297, 301, 326, 330, 331, 362, 429, 430, 431, 432, 479, 537, 538, 539, 540, 541, 542, 837, 853, 854, 876, 878, 889, 890, 935, 936, 937, 953, 964]\n",
      "\n",
      "Column with missing values: Diagnosis Method Nodule 2\n",
      "Rows with missing values in this column: [66, 80, 100, 101, 102, 104, 105, 106, 107, 108, 109, 110, 111, 112, 117, 118, 129, 130, 141, 142, 143, 144, 145, 146, 149, 150, 151, 152, 153, 154, 155, 158, 159, 160, 161, 162, 163, 164, 165, 166, 167, 168, 169, 170, 171, 172, 173, 174, 175, 176, 177, 178, 179, 180, 181, 182, 185, 193, 194, 198, 199, 200, 201, 202, 203, 204, 210, 211, 212, 213, 214, 216, 217, 218, 219, 220, 221, 223, 297, 301, 326, 330, 331, 362, 429, 430, 431, 432, 479, 537, 538, 539, 540, 541, 542, 837, 853, 854, 876, 878, 889, 890, 935, 936, 937, 953, 964]\n",
      "\n",
      "Column with missing values: Diagnosis Nodule 3\n",
      "Rows with missing values in this column: [66, 80, 100, 101, 102, 104, 105, 106, 107, 108, 109, 110, 111, 112, 117, 118, 129, 130, 141, 142, 143, 144, 145, 146, 149, 150, 151, 152, 153, 154, 155, 156, 157, 158, 159, 160, 161, 162, 163, 164, 165, 166, 167, 168, 169, 170, 171, 172, 173, 174, 175, 176, 177, 178, 179, 180, 181, 182, 185, 193, 194, 196, 198, 199, 200, 201, 202, 203, 204, 210, 211, 212, 213, 214, 215, 216, 217, 218, 219, 220, 221, 223, 224, 225, 226, 227, 258, 259, 297, 301, 326, 330, 331, 362, 381, 429, 430, 431, 432, 479, 537, 538, 539, 540, 541, 542, 837, 853, 854, 876, 878, 889, 890, 935, 936, 937, 953, 964, 965]\n",
      "\n",
      "Column with missing values: Diagnosis Method Nodule 3\n",
      "Rows with missing values in this column: [66, 80, 100, 101, 102, 104, 105, 106, 107, 108, 109, 110, 111, 112, 117, 118, 129, 130, 141, 142, 143, 144, 145, 146, 149, 150, 151, 152, 153, 154, 155, 156, 157, 158, 159, 160, 161, 162, 163, 164, 165, 166, 167, 168, 169, 170, 171, 172, 173, 174, 175, 176, 177, 178, 179, 180, 181, 182, 185, 193, 194, 196, 198, 199, 200, 201, 202, 203, 204, 210, 211, 212, 213, 214, 215, 216, 217, 218, 219, 220, 221, 223, 224, 225, 226, 227, 258, 259, 297, 301, 326, 330, 331, 362, 381, 429, 430, 431, 432, 479, 537, 538, 539, 540, 541, 542, 837, 853, 854, 876, 878, 889, 890, 935, 936, 937, 953, 964, 965]\n",
      "\n",
      "Column with missing values: Diagnosis Nodule 4\n",
      "Rows with missing values in this column: [66, 80, 100, 101, 102, 104, 105, 106, 107, 108, 109, 110, 111, 112, 117, 118, 129, 130, 141, 142, 143, 144, 145, 146, 149, 150, 151, 152, 153, 154, 155, 156, 157, 158, 159, 160, 161, 162, 163, 164, 165, 166, 167, 168, 169, 170, 171, 172, 173, 174, 175, 176, 177, 178, 179, 180, 181, 182, 185, 193, 194, 196, 198, 199, 200, 201, 202, 203, 204, 210, 211, 212, 213, 214, 215, 216, 217, 218, 219, 220, 221, 223, 224, 225, 226, 227, 258, 259, 297, 301, 326, 330, 331, 362, 381, 429, 430, 431, 432, 479, 537, 538, 539, 540, 541, 542, 837, 853, 854, 876, 878, 889, 890, 935, 936, 937, 953, 964, 965]\n",
      "\n",
      "Column with missing values: Diagnosis Method Nodule 4\n",
      "Rows with missing values in this column: [66, 80, 100, 101, 102, 104, 105, 106, 107, 108, 109, 110, 111, 112, 117, 118, 129, 130, 141, 142, 143, 144, 145, 146, 149, 150, 151, 152, 153, 154, 155, 156, 157, 158, 159, 160, 161, 162, 163, 164, 165, 166, 167, 168, 169, 170, 171, 172, 173, 174, 175, 176, 177, 178, 179, 180, 181, 182, 185, 193, 194, 196, 198, 199, 200, 201, 202, 203, 204, 210, 211, 212, 213, 214, 215, 216, 217, 218, 219, 220, 221, 223, 224, 225, 226, 227, 258, 259, 297, 301, 326, 330, 331, 362, 381, 429, 430, 431, 432, 479, 537, 538, 539, 540, 541, 542, 837, 853, 854, 876, 878, 889, 890, 935, 936, 937, 953, 964, 965]\n",
      "\n",
      "Column with missing values: Diagnosis Nodule 5\n",
      "Rows with missing values in this column: [66, 80, 100, 101, 102, 104, 105, 106, 107, 108, 109, 110, 111, 112, 117, 118, 129, 130, 141, 142, 143, 144, 145, 146, 149, 150, 151, 152, 153, 154, 155, 156, 157, 158, 159, 160, 161, 162, 163, 164, 165, 166, 167, 168, 169, 170, 171, 172, 173, 174, 175, 176, 177, 178, 179, 180, 181, 182, 185, 193, 194, 196, 198, 199, 200, 201, 202, 203, 204, 210, 211, 212, 213, 214, 215, 216, 217, 218, 219, 220, 221, 223, 224, 225, 226, 227, 258, 259, 297, 301, 326, 330, 331, 362, 381, 429, 430, 431, 432, 479, 537, 538, 539, 540, 541, 542, 837, 853, 854, 876, 878, 889, 890, 935, 936, 937, 953, 964, 965]\n",
      "\n",
      "Column with missing values: Diagnosis Method Nodule 5\n",
      "Rows with missing values in this column: [66, 80, 100, 101, 102, 104, 105, 106, 107, 108, 109, 110, 111, 112, 117, 118, 129, 130, 141, 142, 143, 144, 145, 146, 149, 150, 151, 152, 153, 154, 155, 156, 157, 158, 159, 160, 161, 162, 163, 164, 165, 166, 167, 168, 169, 170, 171, 172, 173, 174, 175, 176, 177, 178, 179, 180, 181, 182, 185, 193, 194, 196, 198, 199, 200, 201, 202, 203, 204, 210, 211, 212, 213, 214, 215, 216, 217, 218, 219, 220, 221, 223, 224, 225, 226, 227, 258, 259, 297, 301, 326, 330, 331, 362, 381, 429, 430, 431, 432, 479, 537, 538, 539, 540, 541, 542, 837, 853, 854, 876, 878, 889, 890, 935, 936, 937, 953, 964, 965]\n",
      "\n",
      "Columns with string values: Index([], dtype='object')\n",
      "Columns with all zeros (representing 'unknown'):\n",
      "Index(['original_firstorder_InterquartileRange',\n",
      "       'original_firstorder_Kurtosis',\n",
      "       'original_firstorder_MeanAbsoluteDeviation',\n",
      "       'original_firstorder_Range',\n",
      "       'original_firstorder_RobustMeanAbsoluteDeviation',\n",
      "       'original_firstorder_Skewness', 'original_firstorder_Variance',\n",
      "       'original_glcm_ClusterProminence', 'original_glcm_ClusterShade',\n",
      "       'original_glcm_ClusterTendency', 'original_glcm_Contrast',\n",
      "       'original_glcm_DifferenceAverage', 'original_glcm_DifferenceVariance',\n",
      "       'original_glcm_Imc1', 'original_glcm_Imc2',\n",
      "       'original_glcm_InverseVariance', 'original_glcm_SumSquares',\n",
      "       'original_glrlm_GrayLevelVariance', 'original_glszm_GrayLevelVariance',\n",
      "       'original_gldm_GrayLevelVariance', 'Diagnosis Nodule 3',\n",
      "       'Diagnosis Method Nodule 3', 'Diagnosis Nodule 4',\n",
      "       'Diagnosis Method Nodule 4', 'Diagnosis Nodule 5',\n",
      "       'Diagnosis Method Nodule 5'],\n",
      "      dtype='object')\n"
     ]
    }
   ],
   "source": [
    "%run pre_processing2.ipynb"
   ]
  },
  {
   "cell_type": "markdown",
   "metadata": {},
   "source": [
    "# Recursive Feature Elimination (RFE)"
   ]
  },
  {
   "cell_type": "code",
   "execution_count": 143,
   "metadata": {},
   "outputs": [],
   "source": [
    "# RFE model \n",
    "\n",
    "def rfe(dataframe, target_column, num_features_to_select=5):\n",
    "\n",
    "    X = dataframe.drop(columns=[target_column])\n",
    "    y = dataframe[target_column]\n",
    "    \n",
    "     # Create an RFE model with cross-validation and random forest classifier\n",
    "    model = RandomForestClassifier()\n",
    "    rfe = RFECV(model, step=1, cv=5, scoring='accuracy', min_features_to_select=num_features_to_select)\n",
    "    \n",
    "   \n",
    "    rfe.fit(X, y)\n",
    "    \n",
    "    # Get the selected features\n",
    "    selected_features = X.columns[rfe.support_]\n",
    "    \n",
    "    return selected_features\n",
    "\n"
   ]
  },
  {
   "cell_type": "code",
   "execution_count": 144,
   "metadata": {},
   "outputs": [
    {
     "name": "stderr",
     "output_type": "stream",
     "text": [
      "/Users/larasousa/.pyenv/versions/3.9.5/lib/python3.9/site-packages/sklearn/model_selection/_split.py:737: UserWarning: The least populated class in y has only 1 members, which is less than n_splits=5.\n",
      "  warnings.warn(\n"
     ]
    },
    {
     "name": "stdout",
     "output_type": "stream",
     "text": [
      "Selected Features: Index(['Nodule_id', 'Subtlety', 'Calcification', 'Margin',\n",
      "       'original_shape_Elongation', 'original_shape_MajorAxisLength',\n",
      "       'original_shape_Maximum2DDiameterColumn',\n",
      "       'original_shape_MinorAxisLength', 'original_shape_SurfaceArea',\n",
      "       'original_shape_SurfaceVolumeRatio',\n",
      "       'original_glrlm_LongRunLowGrayLevelEmphasis',\n",
      "       'original_gldm_DependenceNonUniformity',\n",
      "       'original_gldm_DependenceVariance',\n",
      "       'original_gldm_LargeDependenceLowGrayLevelEmphasis',\n",
      "       'original_gldm_SmallDependenceEmphasis',\n",
      "       'original_gldm_SmallDependenceHighGrayLevelEmphasis',\n",
      "       'original_gldm_SmallDependenceLowGrayLevelEmphasis',\n",
      "       'Primary tumor site for metastatic disease'],\n",
      "      dtype='object')\n"
     ]
    }
   ],
   "source": [
    "#data_0.5\n",
    "low_rfe = rfe(low_2d_sd, 'Malignancy')\n",
    "print(\"Selected Features:\", low_rfe)"
   ]
  },
  {
   "cell_type": "code",
   "execution_count": 145,
   "metadata": {},
   "outputs": [
    {
     "name": "stderr",
     "output_type": "stream",
     "text": [
      "/Users/larasousa/.pyenv/versions/3.9.5/lib/python3.9/site-packages/sklearn/model_selection/_split.py:737: UserWarning: The least populated class in y has only 1 members, which is less than n_splits=5.\n",
      "  warnings.warn(\n"
     ]
    },
    {
     "name": "stdout",
     "output_type": "stream",
     "text": [
      "Selected Features: Index(['Nodule_id', 'Patient_id', 'Subtlety', 'Calcification', 'Margin',\n",
      "       'Lobulation', 'Spiculation', 'original_shape_Elongation',\n",
      "       'original_shape_MajorAxisLength',\n",
      "       'original_shape_Maximum2DDiameterColumn',\n",
      "       'original_shape_Maximum2DDiameterRow', 'original_shape_MinorAxisLength',\n",
      "       'original_shape_Sphericity', 'original_shape_SurfaceArea',\n",
      "       'original_shape_SurfaceVolumeRatio', 'original_firstorder_Energy',\n",
      "       'original_firstorder_TotalEnergy', 'original_glrlm_LongRunEmphasis',\n",
      "       'original_glrlm_LongRunHighGrayLevelEmphasis',\n",
      "       'original_glrlm_RunLengthNonUniformity',\n",
      "       'original_glrlm_ShortRunEmphasis',\n",
      "       'original_gldm_DependenceNonUniformity',\n",
      "       'original_gldm_DependenceVariance',\n",
      "       'original_gldm_LargeDependenceEmphasis',\n",
      "       'original_gldm_SmallDependenceEmphasis',\n",
      "       'original_gldm_SmallDependenceHighGrayLevelEmphasis',\n",
      "       'original_gldm_SmallDependenceLowGrayLevelEmphasis',\n",
      "       'Primary tumor site for metastatic disease'],\n",
      "      dtype='object')\n"
     ]
    }
   ],
   "source": [
    "#data_1.0\n",
    "medium_rfe = rfe(medium_2d_sd, 'Malignancy')\n",
    "print(\"Selected Features:\", medium_rfe)"
   ]
  },
  {
   "cell_type": "code",
   "execution_count": 146,
   "metadata": {},
   "outputs": [
    {
     "name": "stderr",
     "output_type": "stream",
     "text": [
      "/Users/larasousa/.pyenv/versions/3.9.5/lib/python3.9/site-packages/sklearn/model_selection/_split.py:737: UserWarning: The least populated class in y has only 1 members, which is less than n_splits=5.\n",
      "  warnings.warn(\n"
     ]
    },
    {
     "name": "stdout",
     "output_type": "stream",
     "text": [
      "Selected Features: Index(['Nodule_id', 'Patient_id', 'Subtlety', 'Calcification', 'Sphericity',\n",
      "       'Margin', 'Lobulation', 'Spiculation', 'original_shape_Elongation',\n",
      "       'original_shape_Flatness', 'original_shape_LeastAxisLength',\n",
      "       'original_shape_MajorAxisLength',\n",
      "       'original_shape_Maximum2DDiameterColumn',\n",
      "       'original_shape_Maximum2DDiameterRow',\n",
      "       'original_shape_Maximum2DDiameterSlice',\n",
      "       'original_shape_MinorAxisLength', 'original_shape_Sphericity',\n",
      "       'original_shape_SurfaceArea', 'original_shape_SurfaceVolumeRatio',\n",
      "       'original_glrlm_GrayLevelNonUniformity',\n",
      "       'original_glrlm_LongRunEmphasis',\n",
      "       'original_glrlm_LongRunHighGrayLevelEmphasis',\n",
      "       'original_glrlm_LongRunLowGrayLevelEmphasis',\n",
      "       'original_glrlm_RunEntropy', 'original_glrlm_RunLengthNonUniformity',\n",
      "       'original_glrlm_RunPercentage', 'original_glrlm_RunVariance',\n",
      "       'original_glrlm_ShortRunEmphasis',\n",
      "       'original_glrlm_ShortRunHighGrayLevelEmphasis',\n",
      "       'original_glszm_LargeAreaEmphasis',\n",
      "       'original_glszm_LargeAreaLowGrayLevelEmphasis',\n",
      "       'original_glszm_ZonePercentage',\n",
      "       'original_gldm_DependenceNonUniformity',\n",
      "       'original_gldm_DependenceVariance',\n",
      "       'original_gldm_GrayLevelNonUniformity',\n",
      "       'original_gldm_LargeDependenceEmphasis',\n",
      "       'original_gldm_LargeDependenceHighGrayLevelEmphasis',\n",
      "       'original_gldm_LargeDependenceLowGrayLevelEmphasis',\n",
      "       'original_gldm_SmallDependenceEmphasis',\n",
      "       'original_gldm_SmallDependenceHighGrayLevelEmphasis',\n",
      "       'original_gldm_SmallDependenceLowGrayLevelEmphasis',\n",
      "       'Primary tumor site for metastatic disease'],\n",
      "      dtype='object')\n"
     ]
    }
   ],
   "source": [
    "#data_1.5\n",
    "high_rfe = rfe(high_2d_sd, 'Malignancy')\n",
    "print(\"Selected Features:\", high_rfe)"
   ]
  },
  {
   "cell_type": "markdown",
   "metadata": {},
   "source": [
    "# Feature Importance from Trees"
   ]
  },
  {
   "cell_type": "code",
   "execution_count": 147,
   "metadata": {},
   "outputs": [],
   "source": [
    "# Create a feature selection model with random forest\n",
    "\n",
    "def feature_select_trees(threshold, dataframe, target_column):\n",
    "\n",
    "    X = dataframe.drop(columns=[target_column])\n",
    "    y = dataframe[target_column]\n",
    "\n",
    "    model = RandomForestClassifier(random_state=42)\n",
    "    model.fit(X, y)\n",
    "    \n",
    "    # Get the feature importances\n",
    "    feature_importances = model.feature_importances_\n",
    "    selected_features = X.columns[feature_importances > threshold]\n",
    "\n",
    "    return selected_features \n",
    "\n"
   ]
  },
  {
   "cell_type": "code",
   "execution_count": 148,
   "metadata": {},
   "outputs": [
    {
     "name": "stdout",
     "output_type": "stream",
     "text": [
      "Threshold 0.01:\n",
      "Low 2D SD:\n",
      "Index(['Nodule_id', 'Patient_id', 'Subtlety', 'Calcification', 'Margin',\n",
      "       'Lobulation', 'Spiculation', 'original_shape_Elongation',\n",
      "       'original_shape_Flatness', 'original_shape_LeastAxisLength',\n",
      "       'original_shape_MajorAxisLength',\n",
      "       'original_shape_Maximum2DDiameterColumn',\n",
      "       'original_shape_Maximum2DDiameterRow',\n",
      "       'original_shape_Maximum2DDiameterSlice',\n",
      "       'original_shape_MinorAxisLength', 'original_shape_Sphericity',\n",
      "       'original_shape_SurfaceArea', 'original_shape_SurfaceVolumeRatio',\n",
      "       'original_shape_VoxelVolume', 'original_firstorder_Energy',\n",
      "       'original_firstorder_TotalEnergy',\n",
      "       'original_glrlm_GrayLevelNonUniformity',\n",
      "       'original_glrlm_LongRunEmphasis',\n",
      "       'original_glrlm_LongRunHighGrayLevelEmphasis',\n",
      "       'original_glrlm_LongRunLowGrayLevelEmphasis',\n",
      "       'original_glrlm_RunEntropy', 'original_glrlm_RunLengthNonUniformity',\n",
      "       'original_glrlm_RunLengthNonUniformityNormalized',\n",
      "       'original_glrlm_RunPercentage', 'original_glrlm_ShortRunEmphasis',\n",
      "       'original_glrlm_ShortRunHighGrayLevelEmphasis',\n",
      "       'original_glrlm_ShortRunLowGrayLevelEmphasis',\n",
      "       'original_glszm_LargeAreaEmphasis',\n",
      "       'original_glszm_LargeAreaHighGrayLevelEmphasis',\n",
      "       'original_glszm_LargeAreaLowGrayLevelEmphasis',\n",
      "       'original_glszm_SmallAreaEmphasis',\n",
      "       'original_glszm_SmallAreaHighGrayLevelEmphasis',\n",
      "       'original_glszm_SmallAreaLowGrayLevelEmphasis',\n",
      "       'original_glszm_ZonePercentage', 'original_gldm_DependenceEntropy',\n",
      "       'original_gldm_DependenceNonUniformity',\n",
      "       'original_gldm_DependenceNonUniformityNormalized',\n",
      "       'original_gldm_DependenceVariance',\n",
      "       'original_gldm_GrayLevelNonUniformity',\n",
      "       'original_gldm_LargeDependenceEmphasis',\n",
      "       'original_gldm_LargeDependenceHighGrayLevelEmphasis',\n",
      "       'original_gldm_LargeDependenceLowGrayLevelEmphasis',\n",
      "       'original_gldm_SmallDependenceEmphasis',\n",
      "       'original_gldm_SmallDependenceHighGrayLevelEmphasis',\n",
      "       'original_gldm_SmallDependenceLowGrayLevelEmphasis',\n",
      "       'Primary tumor site for metastatic disease'],\n",
      "      dtype='object')\n",
      "Medium 2D SD:\n",
      "Index(['Nodule_id', 'Patient_id', 'Subtlety', 'Calcification', 'Margin',\n",
      "       'Lobulation', 'Spiculation', 'original_shape_Elongation',\n",
      "       'original_shape_Flatness', 'original_shape_LeastAxisLength',\n",
      "       'original_shape_MajorAxisLength',\n",
      "       'original_shape_Maximum2DDiameterColumn',\n",
      "       'original_shape_Maximum2DDiameterRow',\n",
      "       'original_shape_Maximum2DDiameterSlice',\n",
      "       'original_shape_MinorAxisLength', 'original_shape_Sphericity',\n",
      "       'original_shape_SurfaceArea', 'original_shape_SurfaceVolumeRatio',\n",
      "       'original_shape_VoxelVolume', 'original_firstorder_Energy',\n",
      "       'original_firstorder_TotalEnergy',\n",
      "       'original_glrlm_GrayLevelNonUniformity',\n",
      "       'original_glrlm_LongRunEmphasis',\n",
      "       'original_glrlm_LongRunHighGrayLevelEmphasis',\n",
      "       'original_glrlm_LongRunLowGrayLevelEmphasis',\n",
      "       'original_glrlm_RunEntropy', 'original_glrlm_RunLengthNonUniformity',\n",
      "       'original_glrlm_RunLengthNonUniformityNormalized',\n",
      "       'original_glrlm_RunPercentage', 'original_glrlm_ShortRunEmphasis',\n",
      "       'original_glrlm_ShortRunHighGrayLevelEmphasis',\n",
      "       'original_glrlm_ShortRunLowGrayLevelEmphasis',\n",
      "       'original_glszm_LargeAreaEmphasis',\n",
      "       'original_glszm_LargeAreaHighGrayLevelEmphasis',\n",
      "       'original_glszm_LargeAreaLowGrayLevelEmphasis',\n",
      "       'original_glszm_SmallAreaEmphasis',\n",
      "       'original_glszm_SmallAreaHighGrayLevelEmphasis',\n",
      "       'original_glszm_SmallAreaLowGrayLevelEmphasis',\n",
      "       'original_glszm_ZonePercentage', 'original_gldm_DependenceEntropy',\n",
      "       'original_gldm_DependenceNonUniformity',\n",
      "       'original_gldm_DependenceNonUniformityNormalized',\n",
      "       'original_gldm_DependenceVariance',\n",
      "       'original_gldm_GrayLevelNonUniformity',\n",
      "       'original_gldm_LargeDependenceEmphasis',\n",
      "       'original_gldm_LargeDependenceHighGrayLevelEmphasis',\n",
      "       'original_gldm_LargeDependenceLowGrayLevelEmphasis',\n",
      "       'original_gldm_SmallDependenceEmphasis',\n",
      "       'original_gldm_SmallDependenceHighGrayLevelEmphasis',\n",
      "       'original_gldm_SmallDependenceLowGrayLevelEmphasis',\n",
      "       'Primary tumor site for metastatic disease'],\n",
      "      dtype='object')\n",
      "High 2D SD:\n",
      "Index(['Nodule_id', 'Patient_id', 'Subtlety', 'Calcification', 'Margin',\n",
      "       'Lobulation', 'Spiculation', 'original_shape_Elongation',\n",
      "       'original_shape_Flatness', 'original_shape_LeastAxisLength',\n",
      "       'original_shape_MajorAxisLength',\n",
      "       'original_shape_Maximum2DDiameterColumn',\n",
      "       'original_shape_Maximum2DDiameterRow',\n",
      "       'original_shape_Maximum2DDiameterSlice',\n",
      "       'original_shape_MinorAxisLength', 'original_shape_Sphericity',\n",
      "       'original_shape_SurfaceArea', 'original_shape_SurfaceVolumeRatio',\n",
      "       'original_shape_VoxelVolume', 'original_firstorder_Energy',\n",
      "       'original_firstorder_TotalEnergy',\n",
      "       'original_glrlm_GrayLevelNonUniformity',\n",
      "       'original_glrlm_LongRunEmphasis',\n",
      "       'original_glrlm_LongRunHighGrayLevelEmphasis',\n",
      "       'original_glrlm_LongRunLowGrayLevelEmphasis',\n",
      "       'original_glrlm_RunEntropy', 'original_glrlm_RunLengthNonUniformity',\n",
      "       'original_glrlm_RunLengthNonUniformityNormalized',\n",
      "       'original_glrlm_RunPercentage', 'original_glrlm_ShortRunEmphasis',\n",
      "       'original_glrlm_ShortRunHighGrayLevelEmphasis',\n",
      "       'original_glrlm_ShortRunLowGrayLevelEmphasis',\n",
      "       'original_glszm_LargeAreaEmphasis',\n",
      "       'original_glszm_LargeAreaHighGrayLevelEmphasis',\n",
      "       'original_glszm_LargeAreaLowGrayLevelEmphasis',\n",
      "       'original_glszm_SmallAreaEmphasis',\n",
      "       'original_glszm_SmallAreaHighGrayLevelEmphasis',\n",
      "       'original_glszm_SmallAreaLowGrayLevelEmphasis',\n",
      "       'original_glszm_ZonePercentage', 'original_gldm_DependenceEntropy',\n",
      "       'original_gldm_DependenceNonUniformity',\n",
      "       'original_gldm_DependenceNonUniformityNormalized',\n",
      "       'original_gldm_DependenceVariance',\n",
      "       'original_gldm_GrayLevelNonUniformity',\n",
      "       'original_gldm_LargeDependenceEmphasis',\n",
      "       'original_gldm_LargeDependenceHighGrayLevelEmphasis',\n",
      "       'original_gldm_LargeDependenceLowGrayLevelEmphasis',\n",
      "       'original_gldm_SmallDependenceEmphasis',\n",
      "       'original_gldm_SmallDependenceHighGrayLevelEmphasis',\n",
      "       'original_gldm_SmallDependenceLowGrayLevelEmphasis',\n",
      "       'Primary tumor site for metastatic disease'],\n",
      "      dtype='object')\n",
      "\n",
      "Threshold 0.02:\n",
      "Low 2D SD:\n",
      "Index(['Patient_id', 'Subtlety', 'Calcification', 'Margin',\n",
      "       'original_shape_MinorAxisLength', 'original_shape_SurfaceVolumeRatio',\n",
      "       'original_glrlm_RunEntropy', 'original_gldm_DependenceNonUniformity',\n",
      "       'original_gldm_DependenceVariance',\n",
      "       'original_gldm_SmallDependenceEmphasis',\n",
      "       'original_gldm_SmallDependenceHighGrayLevelEmphasis',\n",
      "       'Primary tumor site for metastatic disease'],\n",
      "      dtype='object')\n",
      "Medium 2D SD:\n",
      "Index(['Patient_id', 'Subtlety', 'Calcification', 'Margin',\n",
      "       'original_shape_MinorAxisLength', 'original_shape_SurfaceVolumeRatio',\n",
      "       'original_glrlm_RunEntropy', 'original_gldm_DependenceNonUniformity',\n",
      "       'original_gldm_DependenceVariance',\n",
      "       'original_gldm_SmallDependenceEmphasis',\n",
      "       'original_gldm_SmallDependenceHighGrayLevelEmphasis',\n",
      "       'Primary tumor site for metastatic disease'],\n",
      "      dtype='object')\n",
      "High 2D SD:\n",
      "Index(['Patient_id', 'Subtlety', 'Calcification', 'Margin',\n",
      "       'original_shape_MinorAxisLength', 'original_shape_SurfaceVolumeRatio',\n",
      "       'original_glrlm_RunEntropy', 'original_gldm_DependenceNonUniformity',\n",
      "       'original_gldm_DependenceVariance',\n",
      "       'original_gldm_SmallDependenceEmphasis',\n",
      "       'original_gldm_SmallDependenceHighGrayLevelEmphasis',\n",
      "       'Primary tumor site for metastatic disease'],\n",
      "      dtype='object')\n",
      "\n"
     ]
    }
   ],
   "source": [
    "#data_0.5 threshold 0.01\n",
    "low_tree_01 = feature_select_trees(0.01, low_2d_sd, 'Malignancy')\n",
    "\n",
    "#data_1.0 threshold 0.01\n",
    "medium_tree_01 = feature_select_trees(0.01, medium_2d_sd, 'Malignancy')\n",
    "\n",
    "#data_1.5 threshold 0.01\n",
    "high_tree_01 = feature_select_trees(0.01, high_2d_sd, 'Malignancy')\n",
    "\n",
    "#data_0.5 threshold 0.02\n",
    "low_tree_02 = feature_select_trees(0.02, low_2d_sd, 'Malignancy')\n",
    "\n",
    "#data_1.0 threshold 0.02\n",
    "medium_tree_02 = feature_select_trees(0.02, medium_2d_sd, 'Malignancy')\n",
    "\n",
    "#data_1.5 threshold 0.02\n",
    "high_tree_02 = feature_select_trees(0.02, high_2d_sd, 'Malignancy')\n",
    "\n",
    "\n",
    "print(\"Threshold 0.01:\")\n",
    "print(\"Low 2D SD:\")\n",
    "print(low_tree_01)\n",
    "print(\"Medium 2D SD:\")\n",
    "print(medium_tree_01)\n",
    "print(\"High 2D SD:\")\n",
    "print(high_tree_01)\n",
    "\n",
    "print()\n",
    "\n",
    "print(\"Threshold 0.02:\")\n",
    "print(\"Low 2D SD:\")\n",
    "print(low_tree_02)\n",
    "print(\"Medium 2D SD:\")\n",
    "print(medium_tree_02)\n",
    "print(\"High 2D SD:\")\n",
    "print(high_tree_02)\n",
    "print()\n"
   ]
  },
  {
   "cell_type": "markdown",
   "metadata": {},
   "source": [
    "# Variance Threshold"
   ]
  },
  {
   "cell_type": "code",
   "execution_count": 149,
   "metadata": {},
   "outputs": [],
   "source": [
    "# Create a Variance Threshold model \n",
    "def variance_threshold(threshold, dataframe, target_column):\n",
    "\n",
    "    X = dataframe.drop(columns=[target_column])\n",
    "\n",
    "    selector = VarianceThreshold(threshold=threshold)\n",
    "    X_high_variance = selector.fit_transform(X)\n",
    "    \n",
    "    # Get the feature indices selected by the VarianceThreshold\n",
    "    selected_feature_indices = selector.get_support(indices=True)\n",
    "    \n",
    "    # Get the names of the selected features\n",
    "    selected_feature_names = X.columns[selected_feature_indices]\n",
    "    \n",
    "    return X_high_variance, selected_feature_names\n",
    "\n"
   ]
  },
  {
   "cell_type": "code",
   "execution_count": 150,
   "metadata": {},
   "outputs": [
    {
     "name": "stdout",
     "output_type": "stream",
     "text": [
      "Low Variance Threshold:\n",
      "Index(['Nodule_id', 'Patient_id', 'Subtlety', 'Internalstructure',\n",
      "       'Calcification', 'Sphericity', 'Margin', 'Lobulation', 'Spiculation',\n",
      "       'Texture', 'original_shape_Elongation', 'original_shape_Flatness',\n",
      "       'original_shape_LeastAxisLength', 'original_shape_MajorAxisLength',\n",
      "       'original_shape_Maximum2DDiameterColumn',\n",
      "       'original_shape_Maximum2DDiameterRow',\n",
      "       'original_shape_Maximum2DDiameterSlice',\n",
      "       'original_shape_MinorAxisLength', 'original_shape_SurfaceArea',\n",
      "       'original_shape_SurfaceVolumeRatio', 'original_shape_VoxelVolume',\n",
      "       'original_firstorder_Energy', 'original_firstorder_TotalEnergy',\n",
      "       'original_glrlm_GrayLevelNonUniformity',\n",
      "       'original_glrlm_LongRunEmphasis',\n",
      "       'original_glrlm_LongRunHighGrayLevelEmphasis',\n",
      "       'original_glrlm_LongRunLowGrayLevelEmphasis',\n",
      "       'original_glrlm_RunEntropy', 'original_glrlm_RunLengthNonUniformity',\n",
      "       'original_glrlm_RunLengthNonUniformityNormalized',\n",
      "       'original_glrlm_RunPercentage', 'original_glrlm_RunVariance',\n",
      "       'original_glrlm_ShortRunEmphasis',\n",
      "       'original_glrlm_ShortRunHighGrayLevelEmphasis',\n",
      "       'original_glrlm_ShortRunLowGrayLevelEmphasis',\n",
      "       'original_glszm_GrayLevelNonUniformity',\n",
      "       'original_glszm_LargeAreaEmphasis',\n",
      "       'original_glszm_LargeAreaHighGrayLevelEmphasis',\n",
      "       'original_glszm_LargeAreaLowGrayLevelEmphasis',\n",
      "       'original_glszm_ZoneEntropy', 'original_glszm_ZoneVariance',\n",
      "       'original_gldm_DependenceEntropy',\n",
      "       'original_gldm_DependenceNonUniformity',\n",
      "       'original_gldm_DependenceVariance',\n",
      "       'original_gldm_GrayLevelNonUniformity',\n",
      "       'original_gldm_LargeDependenceEmphasis',\n",
      "       'original_gldm_LargeDependenceHighGrayLevelEmphasis',\n",
      "       'original_gldm_LargeDependenceLowGrayLevelEmphasis',\n",
      "       'Diagnosis at the Patient Level\\n0=Unknown\\n1=benign or non-malignant disease\\n2= malignant, primary lung cancer\\n3 = malignant metastatic\\n',\n",
      "       'Diagnosis Method\\n0 = unknown\\n1 = review of radiological images to show 2 years of stable nodule\\n2 = biopsy\\n3 = surgical resection\\n4 = progression or response',\n",
      "       'Primary tumor site for metastatic disease', 'Diagnosis Nodule 1',\n",
      "       'Diagnosis Method Nodule 1', 'Diagnosis Nodule 2',\n",
      "       'Diagnosis Method Nodule 2'],\n",
      "      dtype='object')\n",
      "Medium Variance Threshold:\n",
      "Index(['Nodule_id', 'Patient_id', 'Subtlety', 'Internalstructure',\n",
      "       'Calcification', 'Sphericity', 'Margin', 'Lobulation', 'Spiculation',\n",
      "       'Texture', 'original_shape_Elongation', 'original_shape_Flatness',\n",
      "       'original_shape_LeastAxisLength', 'original_shape_MajorAxisLength',\n",
      "       'original_shape_Maximum2DDiameterColumn',\n",
      "       'original_shape_Maximum2DDiameterRow',\n",
      "       'original_shape_Maximum2DDiameterSlice',\n",
      "       'original_shape_MinorAxisLength', 'original_shape_SurfaceArea',\n",
      "       'original_shape_SurfaceVolumeRatio', 'original_shape_VoxelVolume',\n",
      "       'original_firstorder_Energy', 'original_firstorder_TotalEnergy',\n",
      "       'original_glrlm_GrayLevelNonUniformity',\n",
      "       'original_glrlm_LongRunEmphasis',\n",
      "       'original_glrlm_LongRunHighGrayLevelEmphasis',\n",
      "       'original_glrlm_LongRunLowGrayLevelEmphasis',\n",
      "       'original_glrlm_RunEntropy', 'original_glrlm_RunLengthNonUniformity',\n",
      "       'original_glrlm_RunLengthNonUniformityNormalized',\n",
      "       'original_glrlm_RunPercentage', 'original_glrlm_RunVariance',\n",
      "       'original_glrlm_ShortRunEmphasis',\n",
      "       'original_glrlm_ShortRunHighGrayLevelEmphasis',\n",
      "       'original_glrlm_ShortRunLowGrayLevelEmphasis',\n",
      "       'original_glszm_GrayLevelNonUniformity',\n",
      "       'original_glszm_LargeAreaEmphasis',\n",
      "       'original_glszm_LargeAreaHighGrayLevelEmphasis',\n",
      "       'original_glszm_LargeAreaLowGrayLevelEmphasis',\n",
      "       'original_glszm_ZoneEntropy', 'original_glszm_ZoneVariance',\n",
      "       'original_gldm_DependenceEntropy',\n",
      "       'original_gldm_DependenceNonUniformity',\n",
      "       'original_gldm_DependenceVariance',\n",
      "       'original_gldm_GrayLevelNonUniformity',\n",
      "       'original_gldm_LargeDependenceEmphasis',\n",
      "       'original_gldm_LargeDependenceHighGrayLevelEmphasis',\n",
      "       'original_gldm_LargeDependenceLowGrayLevelEmphasis',\n",
      "       'Diagnosis at the Patient Level\\n0=Unknown\\n1=benign or non-malignant disease\\n2= malignant, primary lung cancer\\n3 = malignant metastatic\\n',\n",
      "       'Diagnosis Method\\n0 = unknown\\n1 = review of radiological images to show 2 years of stable nodule\\n2 = biopsy\\n3 = surgical resection\\n4 = progression or response',\n",
      "       'Primary tumor site for metastatic disease', 'Diagnosis Nodule 1',\n",
      "       'Diagnosis Method Nodule 1', 'Diagnosis Nodule 2',\n",
      "       'Diagnosis Method Nodule 2'],\n",
      "      dtype='object')\n",
      "High Variance Threshold:\n",
      "Index(['Nodule_id', 'Patient_id', 'Subtlety', 'Internalstructure',\n",
      "       'Calcification', 'Sphericity', 'Margin', 'Lobulation', 'Spiculation',\n",
      "       'Texture', 'original_shape_Elongation', 'original_shape_Flatness',\n",
      "       'original_shape_LeastAxisLength', 'original_shape_MajorAxisLength',\n",
      "       'original_shape_Maximum2DDiameterColumn',\n",
      "       'original_shape_Maximum2DDiameterRow',\n",
      "       'original_shape_Maximum2DDiameterSlice',\n",
      "       'original_shape_MinorAxisLength', 'original_shape_SurfaceArea',\n",
      "       'original_shape_SurfaceVolumeRatio', 'original_shape_VoxelVolume',\n",
      "       'original_firstorder_Energy', 'original_firstorder_TotalEnergy',\n",
      "       'original_glrlm_GrayLevelNonUniformity',\n",
      "       'original_glrlm_LongRunEmphasis',\n",
      "       'original_glrlm_LongRunHighGrayLevelEmphasis',\n",
      "       'original_glrlm_LongRunLowGrayLevelEmphasis',\n",
      "       'original_glrlm_RunEntropy', 'original_glrlm_RunLengthNonUniformity',\n",
      "       'original_glrlm_RunLengthNonUniformityNormalized',\n",
      "       'original_glrlm_RunPercentage', 'original_glrlm_RunVariance',\n",
      "       'original_glrlm_ShortRunEmphasis',\n",
      "       'original_glrlm_ShortRunHighGrayLevelEmphasis',\n",
      "       'original_glrlm_ShortRunLowGrayLevelEmphasis',\n",
      "       'original_glszm_GrayLevelNonUniformity',\n",
      "       'original_glszm_LargeAreaEmphasis',\n",
      "       'original_glszm_LargeAreaHighGrayLevelEmphasis',\n",
      "       'original_glszm_LargeAreaLowGrayLevelEmphasis',\n",
      "       'original_glszm_ZoneEntropy', 'original_glszm_ZoneVariance',\n",
      "       'original_gldm_DependenceEntropy',\n",
      "       'original_gldm_DependenceNonUniformity',\n",
      "       'original_gldm_DependenceVariance',\n",
      "       'original_gldm_GrayLevelNonUniformity',\n",
      "       'original_gldm_LargeDependenceEmphasis',\n",
      "       'original_gldm_LargeDependenceHighGrayLevelEmphasis',\n",
      "       'original_gldm_LargeDependenceLowGrayLevelEmphasis',\n",
      "       'Diagnosis at the Patient Level\\n0=Unknown\\n1=benign or non-malignant disease\\n2= malignant, primary lung cancer\\n3 = malignant metastatic\\n',\n",
      "       'Diagnosis Method\\n0 = unknown\\n1 = review of radiological images to show 2 years of stable nodule\\n2 = biopsy\\n3 = surgical resection\\n4 = progression or response',\n",
      "       'Primary tumor site for metastatic disease', 'Diagnosis Nodule 1',\n",
      "       'Diagnosis Method Nodule 1', 'Diagnosis Nodule 2',\n",
      "       'Diagnosis Method Nodule 2'],\n",
      "      dtype='object')\n"
     ]
    }
   ],
   "source": [
    "#data_0.5 threshold 0.01\n",
    "X_high_variance1, low_variance_threshold = variance_threshold(0.01, low_2d_sd, 'Malignancy')\n",
    "#data_1.0 threshold 0.01\n",
    "X_high_variance2, medium_variance_threshold = variance_threshold(0.01, medium_2d_sd, 'Malignancy')\n",
    "#data_1.5 threshold 0.01\n",
    "X_high_variance3, high_variance_threshold = variance_threshold(0.01, high_2d_sd, 'Malignancy')\n",
    "\n",
    "print(\"Low Variance Threshold:\")\n",
    "print(low_variance_threshold)\n",
    "\n",
    "print(\"Medium Variance Threshold:\")\n",
    "print(medium_variance_threshold)\n",
    "\n",
    "print(\"High Variance Threshold:\")\n",
    "print(high_variance_threshold)\n"
   ]
  },
  {
   "cell_type": "markdown",
   "metadata": {},
   "source": [
    "# Lasso"
   ]
  },
  {
   "cell_type": "code",
   "execution_count": 151,
   "metadata": {},
   "outputs": [],
   "source": [
    "#Create a Lasso model with a regularization coefficient of 0.01\n",
    "\n",
    "def lasso(dataframe, target_column):\n",
    "\n",
    "    X = dataframe.drop(columns=[target_column])\n",
    "    y = dataframe[target_column]\n",
    "\n",
    "    model = Lasso(alpha=0.01)\n",
    "    model.fit(X, y)\n",
    "    selected_features = X.columns[model.coef_ != 0]\n",
    "\n",
    "    return selected_features\n",
    "\n"
   ]
  },
  {
   "cell_type": "code",
   "execution_count": 152,
   "metadata": {},
   "outputs": [
    {
     "name": "stdout",
     "output_type": "stream",
     "text": [
      "Low Lasso:\n",
      "Index(['Nodule_id', 'Patient_id', 'Subtlety', 'Internalstructure',\n",
      "       'Calcification', 'Sphericity', 'Margin', 'Lobulation',\n",
      "       'original_shape_LeastAxisLength', 'original_shape_MajorAxisLength',\n",
      "       'original_shape_Maximum2DDiameterRow',\n",
      "       'original_shape_Maximum2DDiameterSlice',\n",
      "       'original_shape_MinorAxisLength', 'original_shape_SurfaceArea',\n",
      "       'original_shape_VoxelVolume', 'original_firstorder_Energy',\n",
      "       'original_firstorder_TotalEnergy',\n",
      "       'original_glrlm_GrayLevelNonUniformity',\n",
      "       'original_glrlm_LongRunEmphasis',\n",
      "       'original_glrlm_LongRunHighGrayLevelEmphasis',\n",
      "       'original_glrlm_LongRunLowGrayLevelEmphasis',\n",
      "       'original_glrlm_RunLengthNonUniformity',\n",
      "       'original_glszm_LargeAreaEmphasis',\n",
      "       'original_glszm_LargeAreaHighGrayLevelEmphasis',\n",
      "       'original_glszm_LargeAreaLowGrayLevelEmphasis',\n",
      "       'original_glszm_ZoneVariance', 'original_gldm_DependenceNonUniformity',\n",
      "       'original_gldm_DependenceVariance',\n",
      "       'original_gldm_GrayLevelNonUniformity',\n",
      "       'original_gldm_LargeDependenceEmphasis',\n",
      "       'original_gldm_LargeDependenceHighGrayLevelEmphasis',\n",
      "       'original_gldm_LargeDependenceLowGrayLevelEmphasis',\n",
      "       'Diagnosis at the Patient Level\\n0=Unknown\\n1=benign or non-malignant disease\\n2= malignant, primary lung cancer\\n3 = malignant metastatic\\n',\n",
      "       'Diagnosis Method\\n0 = unknown\\n1 = review of radiological images to show 2 years of stable nodule\\n2 = biopsy\\n3 = surgical resection\\n4 = progression or response',\n",
      "       'Primary tumor site for metastatic disease', 'Diagnosis Nodule 1',\n",
      "       'Diagnosis Method Nodule 1'],\n",
      "      dtype='object')\n",
      "Medium Lasso:\n",
      "Index(['Nodule_id', 'Patient_id', 'Subtlety', 'Internalstructure',\n",
      "       'Calcification', 'Sphericity', 'Margin', 'Lobulation',\n",
      "       'original_shape_LeastAxisLength', 'original_shape_MajorAxisLength',\n",
      "       'original_shape_Maximum2DDiameterRow',\n",
      "       'original_shape_Maximum2DDiameterSlice',\n",
      "       'original_shape_MinorAxisLength', 'original_shape_SurfaceArea',\n",
      "       'original_shape_VoxelVolume', 'original_firstorder_Energy',\n",
      "       'original_firstorder_TotalEnergy',\n",
      "       'original_glrlm_GrayLevelNonUniformity',\n",
      "       'original_glrlm_LongRunEmphasis',\n",
      "       'original_glrlm_LongRunHighGrayLevelEmphasis',\n",
      "       'original_glrlm_LongRunLowGrayLevelEmphasis',\n",
      "       'original_glrlm_RunLengthNonUniformity',\n",
      "       'original_glszm_LargeAreaEmphasis',\n",
      "       'original_glszm_LargeAreaHighGrayLevelEmphasis',\n",
      "       'original_glszm_LargeAreaLowGrayLevelEmphasis',\n",
      "       'original_glszm_ZoneVariance', 'original_gldm_DependenceNonUniformity',\n",
      "       'original_gldm_DependenceVariance',\n",
      "       'original_gldm_GrayLevelNonUniformity',\n",
      "       'original_gldm_LargeDependenceEmphasis',\n",
      "       'original_gldm_LargeDependenceHighGrayLevelEmphasis',\n",
      "       'original_gldm_LargeDependenceLowGrayLevelEmphasis',\n",
      "       'Diagnosis at the Patient Level\\n0=Unknown\\n1=benign or non-malignant disease\\n2= malignant, primary lung cancer\\n3 = malignant metastatic\\n',\n",
      "       'Diagnosis Method\\n0 = unknown\\n1 = review of radiological images to show 2 years of stable nodule\\n2 = biopsy\\n3 = surgical resection\\n4 = progression or response',\n",
      "       'Primary tumor site for metastatic disease', 'Diagnosis Nodule 1',\n",
      "       'Diagnosis Method Nodule 1'],\n",
      "      dtype='object')\n",
      "High Lasso:\n",
      "Index(['Nodule_id', 'Patient_id', 'Subtlety', 'Internalstructure',\n",
      "       'Calcification', 'Sphericity', 'Margin', 'Lobulation',\n",
      "       'original_shape_LeastAxisLength', 'original_shape_MajorAxisLength',\n",
      "       'original_shape_Maximum2DDiameterRow',\n",
      "       'original_shape_Maximum2DDiameterSlice',\n",
      "       'original_shape_MinorAxisLength', 'original_shape_SurfaceArea',\n",
      "       'original_shape_VoxelVolume', 'original_firstorder_Energy',\n",
      "       'original_firstorder_TotalEnergy',\n",
      "       'original_glrlm_GrayLevelNonUniformity',\n",
      "       'original_glrlm_LongRunEmphasis',\n",
      "       'original_glrlm_LongRunHighGrayLevelEmphasis',\n",
      "       'original_glrlm_LongRunLowGrayLevelEmphasis',\n",
      "       'original_glrlm_RunLengthNonUniformity',\n",
      "       'original_glszm_LargeAreaEmphasis',\n",
      "       'original_glszm_LargeAreaHighGrayLevelEmphasis',\n",
      "       'original_glszm_LargeAreaLowGrayLevelEmphasis',\n",
      "       'original_glszm_ZoneVariance', 'original_gldm_DependenceNonUniformity',\n",
      "       'original_gldm_DependenceVariance',\n",
      "       'original_gldm_GrayLevelNonUniformity',\n",
      "       'original_gldm_LargeDependenceEmphasis',\n",
      "       'original_gldm_LargeDependenceHighGrayLevelEmphasis',\n",
      "       'original_gldm_LargeDependenceLowGrayLevelEmphasis',\n",
      "       'Diagnosis at the Patient Level\\n0=Unknown\\n1=benign or non-malignant disease\\n2= malignant, primary lung cancer\\n3 = malignant metastatic\\n',\n",
      "       'Diagnosis Method\\n0 = unknown\\n1 = review of radiological images to show 2 years of stable nodule\\n2 = biopsy\\n3 = surgical resection\\n4 = progression or response',\n",
      "       'Primary tumor site for metastatic disease', 'Diagnosis Nodule 1',\n",
      "       'Diagnosis Method Nodule 1'],\n",
      "      dtype='object')\n"
     ]
    },
    {
     "name": "stderr",
     "output_type": "stream",
     "text": [
      "/Users/larasousa/.pyenv/versions/3.9.5/lib/python3.9/site-packages/sklearn/linear_model/_coordinate_descent.py:628: ConvergenceWarning: Objective did not converge. You might want to increase the number of iterations, check the scale of the features or consider increasing regularisation. Duality gap: 1.576e+01, tolerance: 7.444e-03\n",
      "  model = cd_fast.enet_coordinate_descent(\n",
      "/Users/larasousa/.pyenv/versions/3.9.5/lib/python3.9/site-packages/sklearn/linear_model/_coordinate_descent.py:628: ConvergenceWarning: Objective did not converge. You might want to increase the number of iterations, check the scale of the features or consider increasing regularisation. Duality gap: 1.576e+01, tolerance: 7.444e-03\n",
      "  model = cd_fast.enet_coordinate_descent(\n",
      "/Users/larasousa/.pyenv/versions/3.9.5/lib/python3.9/site-packages/sklearn/linear_model/_coordinate_descent.py:628: ConvergenceWarning: Objective did not converge. You might want to increase the number of iterations, check the scale of the features or consider increasing regularisation. Duality gap: 1.576e+01, tolerance: 7.444e-03\n",
      "  model = cd_fast.enet_coordinate_descent(\n"
     ]
    }
   ],
   "source": [
    "#data_0.5\n",
    "print(\"Low Lasso:\")\n",
    "low_lasso = lasso(low_2d_sd, 'Malignancy')\n",
    "print(low_lasso)\n",
    "\n",
    "#data_1.0\n",
    "print(\"Medium Lasso:\")\n",
    "medium_lasso= lasso(medium_2d_sd, 'Malignancy')\n",
    "print(medium_lasso)\n",
    "\n",
    "#data_2.0\n",
    "print(\"High Lasso:\")\n",
    "high_lasso = lasso(high_2d_sd, 'Malignancy')\n",
    "print(high_lasso)\n"
   ]
  },
  {
   "cell_type": "markdown",
   "metadata": {},
   "source": [
    "# Choosing the best features"
   ]
  },
  {
   "cell_type": "markdown",
   "metadata": {},
   "source": [
    "### Metrics"
   ]
  },
  {
   "cell_type": "markdown",
   "metadata": {},
   "source": [
    "### 1. CrossValidation"
   ]
  },
  {
   "cell_type": "markdown",
   "metadata": {},
   "source": [
    "#### rfe"
   ]
  },
  {
   "cell_type": "markdown",
   "metadata": {},
   "source": [
    "###### Dataset sd = 0.5"
   ]
  },
  {
   "cell_type": "code",
   "execution_count": 153,
   "metadata": {},
   "outputs": [
    {
     "name": "stderr",
     "output_type": "stream",
     "text": [
      "/Users/larasousa/.pyenv/versions/3.9.5/lib/python3.9/site-packages/sklearn/model_selection/_split.py:737: UserWarning: The least populated class in y has only 1 members, which is less than n_splits=5.\n",
      "  warnings.warn(\n"
     ]
    },
    {
     "data": {
      "text/plain": [
       "(0.6526315789473683, 0.5833333333333334)"
      ]
     },
     "execution_count": 153,
     "metadata": {},
     "output_type": "execute_result"
    }
   ],
   "source": [
    "#sd=0.5\n",
    "Y = low_2d_sd['Malignancy']\n",
    "X = low_2d_sd[low_rfe]\n",
    "\n",
    "X_train, X_test, y_train, y_test = train_test_split(X, Y, test_size=0.2, random_state=42)\n",
    "\n",
    "# Applying StratifiedKFold for cross validation and RandomForestClassifier\n",
    "stratified_kfold = StratifiedKFold(n_splits=5, shuffle=True, random_state=42)\n",
    "model = RandomForestClassifier(random_state=42)\n",
    "\n",
    "cv_scores_low_rfe = cross_val_score(model, X_train, y_train, cv=stratified_kfold, scoring='accuracy')\n",
    "model.fit(X_train, y_train)\n",
    "\n",
    "y_pred_group = model.predict(X_test)\n",
    "accuracy_low_rfe = accuracy_score(y_test, y_pred_group)\n",
    "\n",
    "cv_scores_low_rfe.mean(), accuracy_low_rfe\n"
   ]
  },
  {
   "cell_type": "markdown",
   "metadata": {},
   "source": [
    "###### Dataset sd = 1.0"
   ]
  },
  {
   "cell_type": "code",
   "execution_count": 154,
   "metadata": {},
   "outputs": [
    {
     "name": "stderr",
     "output_type": "stream",
     "text": [
      "/Users/larasousa/.pyenv/versions/3.9.5/lib/python3.9/site-packages/sklearn/model_selection/_split.py:737: UserWarning: The least populated class in y has only 1 members, which is less than n_splits=5.\n",
      "  warnings.warn(\n"
     ]
    },
    {
     "data": {
      "text/plain": [
       "(0.6421052631578947, 0.5)"
      ]
     },
     "execution_count": 154,
     "metadata": {},
     "output_type": "execute_result"
    }
   ],
   "source": [
    "#sd=1.0\n",
    "Y = medium_2d_sd['Malignancy']\n",
    "X = medium_2d_sd[medium_rfe]\n",
    "\n",
    "X_train, X_test, y_train, y_test = train_test_split(X, Y, test_size=0.2, random_state=42)\n",
    "\n",
    "# Applying StratifiedKFold for cross validation and RandomForestClassifier\n",
    "stratified_kfold = StratifiedKFold(n_splits=5, shuffle=True, random_state=42)\n",
    "model = RandomForestClassifier(random_state=42)\n",
    "\n",
    "cv_scores_medium_rfe = cross_val_score(model, X_train, y_train, cv=stratified_kfold, scoring='accuracy')\n",
    "model.fit(X_train, y_train)\n",
    "\n",
    "y_pred_group = model.predict(X_test)\n",
    "accuracy_medium_rfe = accuracy_score(y_test, y_pred_group)\n",
    "\n",
    "cv_scores_medium_rfe.mean(), accuracy_medium_rfe"
   ]
  },
  {
   "cell_type": "markdown",
   "metadata": {},
   "source": [
    "###### Dataset sd=1.5\n"
   ]
  },
  {
   "cell_type": "code",
   "execution_count": 155,
   "metadata": {},
   "outputs": [
    {
     "name": "stderr",
     "output_type": "stream",
     "text": [
      "/Users/larasousa/.pyenv/versions/3.9.5/lib/python3.9/site-packages/sklearn/model_selection/_split.py:737: UserWarning: The least populated class in y has only 1 members, which is less than n_splits=5.\n",
      "  warnings.warn(\n"
     ]
    },
    {
     "data": {
      "text/plain": [
       "(0.5684210526315789, 0.5)"
      ]
     },
     "execution_count": 155,
     "metadata": {},
     "output_type": "execute_result"
    }
   ],
   "source": [
    "#sd=1.5\n",
    "Y = high_2d_sd['Malignancy']\n",
    "X = high_2d_sd[high_rfe]\n",
    "\n",
    "X_train, X_test, y_train, y_test = train_test_split(X, Y, test_size=0.2, random_state=42)\n",
    "\n",
    "# Applying StratifiedKFold for cross validation and RandomForestClassifier\n",
    "stratified_kfold = StratifiedKFold(n_splits=5, shuffle=True, random_state=42)\n",
    "model = RandomForestClassifier(random_state=42)\n",
    "\n",
    "cv_scores_high_rfe = cross_val_score(model, X_train, y_train, cv=5, scoring='accuracy')\n",
    "model.fit(X_train, y_train)\n",
    "\n",
    "y_pred_group = model.predict(X_test)\n",
    "accuracy_high_rfe = accuracy_score(y_test, y_pred_group)\n",
    "\n",
    "cv_scores_high_rfe.mean(), accuracy_high_rfe"
   ]
  },
  {
   "cell_type": "markdown",
   "metadata": {},
   "source": [
    "#### tree"
   ]
  },
  {
   "cell_type": "markdown",
   "metadata": {},
   "source": [
    "###### Dataset sd=0.5"
   ]
  },
  {
   "cell_type": "code",
   "execution_count": 156,
   "metadata": {},
   "outputs": [
    {
     "name": "stderr",
     "output_type": "stream",
     "text": [
      "/Users/larasousa/.pyenv/versions/3.9.5/lib/python3.9/site-packages/sklearn/model_selection/_split.py:737: UserWarning: The least populated class in y has only 1 members, which is less than n_splits=5.\n",
      "  warnings.warn(\n"
     ]
    },
    {
     "data": {
      "text/plain": [
       "(0.6, 0.4583333333333333)"
      ]
     },
     "execution_count": 156,
     "metadata": {},
     "output_type": "execute_result"
    }
   ],
   "source": [
    "#threshold 0.01\n",
    "Y = low_2d_sd['Malignancy']\n",
    "X = low_2d_sd[low_tree_01]\n",
    "\n",
    "X_train, X_test, y_train, y_test = train_test_split(X, Y, test_size=0.2, random_state=42)\n",
    "\n",
    "# Applying StratifiedKFold for cross validation and RandomForestClassifier\n",
    "stratified_kfold = StratifiedKFold(n_splits=5, shuffle=True, random_state=42)\n",
    "model = RandomForestClassifier(random_state=42)\n",
    "\n",
    "cv_scores_tree_low01 = cross_val_score(model, X_train, y_train, cv=stratified_kfold, scoring='accuracy')\n",
    "model.fit(X_train, y_train)\n",
    "\n",
    "y_pred_group = model.predict(X_test)\n",
    "accuracy_tree_low01 = accuracy_score(y_test, y_pred_group)\n",
    "\n",
    "cv_scores_tree_low01.mean(), accuracy_tree_low01"
   ]
  },
  {
   "cell_type": "code",
   "execution_count": 157,
   "metadata": {},
   "outputs": [
    {
     "name": "stderr",
     "output_type": "stream",
     "text": [
      "/Users/larasousa/.pyenv/versions/3.9.5/lib/python3.9/site-packages/sklearn/model_selection/_split.py:737: UserWarning: The least populated class in y has only 1 members, which is less than n_splits=5.\n",
      "  warnings.warn(\n"
     ]
    },
    {
     "data": {
      "text/plain": [
       "(0.6842105263157896, 0.5833333333333334)"
      ]
     },
     "execution_count": 157,
     "metadata": {},
     "output_type": "execute_result"
    }
   ],
   "source": [
    "#threshold 0.02\n",
    "Y = low_2d_sd['Malignancy']\n",
    "X = low_2d_sd[low_tree_02]\n",
    "\n",
    "X_train, X_test, y_train, y_test = train_test_split(X, Y, test_size=0.2, random_state=42)\n",
    "\n",
    "# Applying StratifiedKFold for cross validation and RandomForestClassifier\n",
    "stratified_kfold = StratifiedKFold(n_splits=5, shuffle=True, random_state=42)\n",
    "model = RandomForestClassifier(random_state=42)\n",
    "\n",
    "cv_scores_tree_low02 = cross_val_score(model, X_train, y_train, cv=stratified_kfold, scoring='accuracy')\n",
    "model.fit(X_train, y_train)\n",
    "\n",
    "y_pred_group = model.predict(X_test)\n",
    "accuracy_tree_low02 = accuracy_score(y_test, y_pred_group)\n",
    "\n",
    "cv_scores_tree_low02.mean(), accuracy_tree_low02"
   ]
  },
  {
   "cell_type": "markdown",
   "metadata": {},
   "source": [
    "###### Dataset sd=1.0"
   ]
  },
  {
   "cell_type": "code",
   "execution_count": 158,
   "metadata": {},
   "outputs": [
    {
     "name": "stderr",
     "output_type": "stream",
     "text": [
      "/Users/larasousa/.pyenv/versions/3.9.5/lib/python3.9/site-packages/sklearn/model_selection/_split.py:737: UserWarning: The least populated class in y has only 1 members, which is less than n_splits=5.\n",
      "  warnings.warn(\n"
     ]
    },
    {
     "data": {
      "text/plain": [
       "(0.6, 0.4583333333333333)"
      ]
     },
     "execution_count": 158,
     "metadata": {},
     "output_type": "execute_result"
    }
   ],
   "source": [
    "#threshold 0.01\n",
    "Y = medium_2d_sd['Malignancy']\n",
    "X = medium_2d_sd[medium_tree_01]\n",
    "\n",
    "X_train, X_test, y_train, y_test = train_test_split(X, Y, test_size=0.2, random_state=42)\n",
    "\n",
    "# Applying StratifiedKFold for cross validation and RandomForestClassifier\n",
    "stratified_kfold = StratifiedKFold(n_splits=5, shuffle=True, random_state=42)\n",
    "model = RandomForestClassifier(random_state=42)\n",
    "\n",
    "cv_scores_tree_medium01 = cross_val_score(model, X_train, y_train, cv=stratified_kfold, scoring='accuracy')\n",
    "model.fit(X_train, y_train)\n",
    "\n",
    "y_pred_group = model.predict(X_test)\n",
    "accuracy_tree_medium01 = accuracy_score(y_test, y_pred_group)\n",
    "\n",
    "cv_scores_tree_medium01.mean(), accuracy_tree_medium01"
   ]
  },
  {
   "cell_type": "code",
   "execution_count": 159,
   "metadata": {},
   "outputs": [
    {
     "name": "stderr",
     "output_type": "stream",
     "text": [
      "/Users/larasousa/.pyenv/versions/3.9.5/lib/python3.9/site-packages/sklearn/model_selection/_split.py:737: UserWarning: The least populated class in y has only 1 members, which is less than n_splits=5.\n",
      "  warnings.warn(\n"
     ]
    },
    {
     "data": {
      "text/plain": [
       "(0.6842105263157896, 0.5833333333333334)"
      ]
     },
     "execution_count": 159,
     "metadata": {},
     "output_type": "execute_result"
    }
   ],
   "source": [
    "#threshold 0.02\n",
    "Y = medium_2d_sd['Malignancy']\n",
    "X = medium_2d_sd[medium_tree_02]\n",
    "\n",
    "X_train, X_test, y_train, y_test = train_test_split(X, Y, test_size=0.2, random_state=42)\n",
    "\n",
    "# Applying StratifiedKFold for cross validation and RandomForestClassifier\n",
    "stratified_kfold = StratifiedKFold(n_splits=5, shuffle=True, random_state=42)\n",
    "model = RandomForestClassifier(random_state=42)\n",
    "\n",
    "cv_scores_tree_medium02 = cross_val_score(model, X_train, y_train, cv=stratified_kfold, scoring='accuracy')\n",
    "model.fit(X_train, y_train)\n",
    "\n",
    "y_pred_group = model.predict(X_test)\n",
    "accuracy_tree_medium02 = accuracy_score(y_test, y_pred_group)\n",
    "\n",
    "cv_scores_tree_medium02.mean(), accuracy_tree_medium02"
   ]
  },
  {
   "cell_type": "markdown",
   "metadata": {},
   "source": [
    "###### Dataset sd=1.5"
   ]
  },
  {
   "cell_type": "code",
   "execution_count": 160,
   "metadata": {},
   "outputs": [
    {
     "name": "stderr",
     "output_type": "stream",
     "text": [
      "/Users/larasousa/.pyenv/versions/3.9.5/lib/python3.9/site-packages/sklearn/model_selection/_split.py:737: UserWarning: The least populated class in y has only 1 members, which is less than n_splits=5.\n",
      "  warnings.warn(\n"
     ]
    },
    {
     "data": {
      "text/plain": [
       "(0.6, 0.4583333333333333)"
      ]
     },
     "execution_count": 160,
     "metadata": {},
     "output_type": "execute_result"
    }
   ],
   "source": [
    "#threshold 0.01\n",
    "Y = high_2d_sd['Malignancy']\n",
    "X = high_2d_sd[high_tree_01]\n",
    "\n",
    "X_train, X_test, y_train, y_test = train_test_split(X, Y, test_size=0.2, random_state=42)\n",
    "\n",
    "# Applying StratifiedKFold for cross validation and RandomForestClassifier\n",
    "stratified_kfold = StratifiedKFold(n_splits=5, shuffle=True, random_state=42)\n",
    "model = RandomForestClassifier(random_state=42)\n",
    "\n",
    "cv_scores_tree_high01 = cross_val_score(model, X_train, y_train, cv=stratified_kfold, scoring='accuracy')\n",
    "model.fit(X_train, y_train)\n",
    "\n",
    "y_pred_group = model.predict(X_test)\n",
    "accuracy_tree_high01 = accuracy_score(y_test, y_pred_group)\n",
    "\n",
    "cv_scores_tree_high01.mean(), accuracy_tree_high01 "
   ]
  },
  {
   "cell_type": "code",
   "execution_count": 161,
   "metadata": {},
   "outputs": [
    {
     "name": "stderr",
     "output_type": "stream",
     "text": [
      "/Users/larasousa/.pyenv/versions/3.9.5/lib/python3.9/site-packages/sklearn/model_selection/_split.py:737: UserWarning: The least populated class in y has only 1 members, which is less than n_splits=5.\n",
      "  warnings.warn(\n"
     ]
    },
    {
     "data": {
      "text/plain": [
       "(0.6842105263157896, 0.5833333333333334)"
      ]
     },
     "execution_count": 161,
     "metadata": {},
     "output_type": "execute_result"
    }
   ],
   "source": [
    "#threshold 0.01\n",
    "Y = high_2d_sd['Malignancy']\n",
    "X = high_2d_sd[high_tree_02]\n",
    "\n",
    "X_train, X_test, y_train, y_test = train_test_split(X, Y, test_size=0.2, random_state=42)\n",
    "\n",
    "# Applying StratifiedKFold for cross validation and RandomForestClassifier\n",
    "stratified_kfold = StratifiedKFold(n_splits=5, shuffle=True, random_state=42)\n",
    "model = RandomForestClassifier(random_state=42)\n",
    "\n",
    "cv_scores_tree_high02 = cross_val_score(model, X_train, y_train, cv=stratified_kfold, scoring='accuracy')\n",
    "model.fit(X_train, y_train)\n",
    "\n",
    "y_pred_group = model.predict(X_test)\n",
    "accuracy_tree_high02 = accuracy_score(y_test, y_pred_group)\n",
    "\n",
    "cv_scores_tree_high02.mean(), accuracy_tree_high02 "
   ]
  },
  {
   "cell_type": "markdown",
   "metadata": {},
   "source": [
    "#### Variance threshold"
   ]
  },
  {
   "cell_type": "markdown",
   "metadata": {},
   "source": [
    "###### Dataset sd=0.5"
   ]
  },
  {
   "cell_type": "code",
   "execution_count": 162,
   "metadata": {},
   "outputs": [
    {
     "name": "stderr",
     "output_type": "stream",
     "text": [
      "/Users/larasousa/.pyenv/versions/3.9.5/lib/python3.9/site-packages/sklearn/model_selection/_split.py:737: UserWarning: The least populated class in y has only 1 members, which is less than n_splits=5.\n",
      "  warnings.warn(\n"
     ]
    },
    {
     "data": {
      "text/plain": [
       "(0.5894736842105263, 0.5833333333333334)"
      ]
     },
     "execution_count": 162,
     "metadata": {},
     "output_type": "execute_result"
    }
   ],
   "source": [
    "#sd=0.5\n",
    "Y = low_2d_sd['Malignancy']\n",
    "X = low_2d_sd[low_variance_threshold]\n",
    "\n",
    "X_train, X_test, y_train, y_test = train_test_split(X, Y, test_size=0.2, random_state=42)\n",
    "\n",
    "# Applying StratifiedKFold for cross validation and RandomForestClassifier\n",
    "stratified_kfold = StratifiedKFold(n_splits=5, shuffle=True, random_state=42)\n",
    "model = RandomForestClassifier(random_state=42)\n",
    "\n",
    "cv_scores_low_vt = cross_val_score(model, X_train, y_train, cv=stratified_kfold, scoring='accuracy')\n",
    "model.fit(X_train, y_train)\n",
    "\n",
    "y_pred_group = model.predict(X_test)\n",
    "accuracy_low_vt = accuracy_score(y_test, y_pred_group)\n",
    "\n",
    "cv_scores_low_vt.mean(), accuracy_low_vt"
   ]
  },
  {
   "cell_type": "markdown",
   "metadata": {},
   "source": [
    "###### Dataset sd=1.0"
   ]
  },
  {
   "cell_type": "code",
   "execution_count": 163,
   "metadata": {},
   "outputs": [
    {
     "name": "stderr",
     "output_type": "stream",
     "text": [
      "/Users/larasousa/.pyenv/versions/3.9.5/lib/python3.9/site-packages/sklearn/model_selection/_split.py:737: UserWarning: The least populated class in y has only 1 members, which is less than n_splits=5.\n",
      "  warnings.warn(\n"
     ]
    },
    {
     "data": {
      "text/plain": [
       "(0.5894736842105263, 0.5833333333333334)"
      ]
     },
     "execution_count": 163,
     "metadata": {},
     "output_type": "execute_result"
    }
   ],
   "source": [
    "#sd=1.0\n",
    "Y = medium_2d_sd['Malignancy']\n",
    "X = medium_2d_sd[medium_variance_threshold]\n",
    "\n",
    "X_train, X_test, y_train, y_test = train_test_split(X, Y, test_size=0.2, random_state=42)\n",
    "\n",
    "# Applying StratifiedKFold for cross validation and RandomForestClassifier\n",
    "stratified_kfold = StratifiedKFold(n_splits=5, shuffle=True, random_state=42)\n",
    "model = RandomForestClassifier(random_state=42)\n",
    "\n",
    "cv_scores_medium_vt = cross_val_score(model, X_train, y_train, cv=stratified_kfold, scoring='accuracy')\n",
    "model.fit(X_train, y_train)\n",
    "\n",
    "y_pred_group = model.predict(X_test)\n",
    "accuracy_medium_vt = accuracy_score(y_test, y_pred_group)\n",
    "\n",
    "cv_scores_medium_vt.mean(), accuracy_medium_vt "
   ]
  },
  {
   "cell_type": "markdown",
   "metadata": {},
   "source": [
    "###### Dataset sd=1.5"
   ]
  },
  {
   "cell_type": "code",
   "execution_count": 164,
   "metadata": {},
   "outputs": [
    {
     "name": "stderr",
     "output_type": "stream",
     "text": [
      "/Users/larasousa/.pyenv/versions/3.9.5/lib/python3.9/site-packages/sklearn/model_selection/_split.py:737: UserWarning: The least populated class in y has only 1 members, which is less than n_splits=5.\n",
      "  warnings.warn(\n"
     ]
    },
    {
     "data": {
      "text/plain": [
       "(0.5894736842105263, 0.5833333333333334)"
      ]
     },
     "execution_count": 164,
     "metadata": {},
     "output_type": "execute_result"
    }
   ],
   "source": [
    "#sd=1.5\n",
    "Y = high_2d_sd['Malignancy']\n",
    "X = high_2d_sd[high_variance_threshold]\n",
    "X_train, X_test, y_train, y_test = train_test_split(X, Y, test_size=0.2, random_state=42)\n",
    "\n",
    "# Applying StratifiedKFold for cross validation and RandomForestClassifier\n",
    "stratified_kfold = StratifiedKFold(n_splits=5, shuffle=True, random_state=42)\n",
    "model = RandomForestClassifier(random_state=42)\n",
    "\n",
    "cv_scores_high_vt = cross_val_score(model, X_train, y_train, cv=stratified_kfold, scoring='accuracy')\n",
    "model.fit(X_train, y_train)\n",
    "\n",
    "y_pred_group = model.predict(X_test)\n",
    "accuracy_high_vt = accuracy_score(y_test, y_pred_group)\n",
    "\n",
    "cv_scores_high_vt.mean(), accuracy_high_vt "
   ]
  },
  {
   "cell_type": "markdown",
   "metadata": {},
   "source": [
    "#### Lasso"
   ]
  },
  {
   "cell_type": "markdown",
   "metadata": {},
   "source": [
    "###### Dataset sd=0.5"
   ]
  },
  {
   "cell_type": "code",
   "execution_count": 165,
   "metadata": {},
   "outputs": [
    {
     "name": "stderr",
     "output_type": "stream",
     "text": [
      "/Users/larasousa/.pyenv/versions/3.9.5/lib/python3.9/site-packages/sklearn/model_selection/_split.py:737: UserWarning: The least populated class in y has only 1 members, which is less than n_splits=5.\n",
      "  warnings.warn(\n"
     ]
    },
    {
     "data": {
      "text/plain": [
       "(0.6421052631578947, 0.5)"
      ]
     },
     "execution_count": 165,
     "metadata": {},
     "output_type": "execute_result"
    }
   ],
   "source": [
    "#sd = 0.5\n",
    "Y = low_2d_sd['Malignancy']\n",
    "X = low_2d_sd[low_lasso]\n",
    "\n",
    "X_train, X_test, y_train, y_test = train_test_split(X, Y, test_size=0.2, random_state=42)\n",
    "\n",
    "# Applying StratifiedKFold for cross validation and RandomForestClassifier\n",
    "stratified_kfold = StratifiedKFold(n_splits=5, shuffle=True, random_state=42)\n",
    "model = RandomForestClassifier(random_state=42)\n",
    "\n",
    "cv_scores_low_lasso = cross_val_score(model, X_train, y_train, cv=stratified_kfold, scoring='accuracy')\n",
    "model.fit(X_train, y_train)\n",
    "\n",
    "y_pred_group = model.predict(X_test)\n",
    "accuracy_low_lasso = accuracy_score(y_test, y_pred_group)\n",
    "\n",
    "cv_scores_low_lasso.mean(), accuracy_low_lasso"
   ]
  },
  {
   "cell_type": "markdown",
   "metadata": {},
   "source": [
    "###### Dataset sd=1.0"
   ]
  },
  {
   "cell_type": "code",
   "execution_count": 166,
   "metadata": {},
   "outputs": [
    {
     "name": "stderr",
     "output_type": "stream",
     "text": [
      "/Users/larasousa/.pyenv/versions/3.9.5/lib/python3.9/site-packages/sklearn/model_selection/_split.py:737: UserWarning: The least populated class in y has only 1 members, which is less than n_splits=5.\n",
      "  warnings.warn(\n"
     ]
    },
    {
     "data": {
      "text/plain": [
       "(0.6421052631578947, 0.5)"
      ]
     },
     "execution_count": 166,
     "metadata": {},
     "output_type": "execute_result"
    }
   ],
   "source": [
    "#sd=1.0\n",
    "Y = medium_2d_sd['Malignancy']\n",
    "X = medium_2d_sd[medium_lasso]\n",
    "\n",
    "X_train, X_test, y_train, y_test = train_test_split(X, Y, test_size=0.2, random_state=42)\n",
    "\n",
    "# Applying StratifiedKFold for cross validation and RandomForestClassifier\n",
    "stratified_kfold = StratifiedKFold(n_splits=5, shuffle=True, random_state=42)\n",
    "model = RandomForestClassifier(random_state=42)\n",
    "cv_scores_medium_lasso = cross_val_score(model, X_train, y_train, cv=stratified_kfold, scoring='accuracy')\n",
    "model.fit(X_train, y_train)\n",
    "y_pred_group = model.predict(X_test)\n",
    "accuracy_medium_lasso = accuracy_score(y_test, y_pred_group)\n",
    "\n",
    "cv_scores_medium_lasso .mean(), accuracy_medium_lasso"
   ]
  },
  {
   "cell_type": "markdown",
   "metadata": {},
   "source": [
    "###### Dataset sd=1.5"
   ]
  },
  {
   "cell_type": "code",
   "execution_count": 167,
   "metadata": {},
   "outputs": [
    {
     "name": "stderr",
     "output_type": "stream",
     "text": [
      "/Users/larasousa/.pyenv/versions/3.9.5/lib/python3.9/site-packages/sklearn/model_selection/_split.py:737: UserWarning: The least populated class in y has only 1 members, which is less than n_splits=5.\n",
      "  warnings.warn(\n"
     ]
    },
    {
     "data": {
      "text/plain": [
       "(0.6463768115942029, 0.5)"
      ]
     },
     "execution_count": 167,
     "metadata": {},
     "output_type": "execute_result"
    }
   ],
   "source": [
    "#sd=1.5\n",
    "Y = high_2d_sd['Malignancy']\n",
    "X = high_2d_sd[high_lasso]\n",
    "X_train, X_test, y_train, y_test = train_test_split(X, Y, test_size=0.2, random_state=42)\n",
    "\n",
    "# Applying StratifiedKFold for cross validation and RandomForestClassifier\n",
    "stratified_kfold = StratifiedKFold(n_splits=5, shuffle=True, random_state=42)\n",
    "model = RandomForestClassifier(random_state=42)\n",
    "\n",
    "cv_scores_high_lasso = cross_val_score(model, X, Y, cv=stratified_kfold, scoring='accuracy')\n",
    "\n",
    "model.fit(X_train, y_train)\n",
    "y_pred_group = model.predict(X_test)\n",
    "accuracy_high_lasso = accuracy_score(y_test, y_pred_group)\n",
    "\n",
    "cv_scores_high_lasso.mean(), accuracy_high_lasso"
   ]
  },
  {
   "cell_type": "markdown",
   "metadata": {},
   "source": [
    "## Cross-Validation Score Comparison"
   ]
  },
  {
   "cell_type": "code",
   "execution_count": 168,
   "metadata": {},
   "outputs": [
    {
     "data": {
      "image/png": "[encoded data removed]",
      "text/plain": [
       "<Figure size 2000x800 with 1 Axes>"
      ]
     },
     "metadata": {},
     "output_type": "display_data"
    }
   ],
   "source": [
    "\n",
    "feature_sets = [\"RFE Features sd=0.5\", \"RFE Features sd=1.0\", \"RFE Features sd=1.5\", \n",
    "                \"Variance Threshold Features sd=0.5\", \"Variance Threshold Features sd=1.0\",\n",
    "                  \"Variance Threshold Features sd=1.5\", \"Tree Features sd=0.5 threshold=0.01\", \n",
    "                  \"Tree Features sd=0.5 threshold=0.02\", \n",
    "                  \"Tree Features sd=1.0 threshold=0.01\", \"Tree Features sd=1.0 threshold=0.02\",\n",
    "                    \"Tree Features sd=1.5 threshold=0.01\", \"Tree Features sd=1.5 threshold=0.02\",\n",
    "                    \"Lasso Features sd=0.5\", \"Lasso Features sd=1.0\", \"Lasso Features sd=1.5\"]\n",
    "\n",
    "# List of cross-validation scores corresponding to each feature set\n",
    "cross_val_scores = [cv_scores_low_rfe,cv_scores_medium_rfe, cv_scores_high_rfe, \n",
    "                    cv_scores_low_vt, cv_scores_medium_vt, cv_scores_high_vt, cv_scores_low_lasso, \n",
    "                    cv_scores_medium_lasso, cv_scores_high_lasso, cv_scores_tree_low01,\n",
    "                      cv_scores_tree_low02, cv_scores_tree_medium01, cv_scores_tree_medium02,\n",
    "                        cv_scores_tree_high01, cv_scores_tree_high02]\n",
    "\n",
    "# Create a bar chart for cross-validation scores\n",
    "plt.figure(figsize=(20, 8))\n",
    "bars = plt.bar(feature_sets, [score.mean() for score in cross_val_scores], color='#FF7F24', alpha=0.4, label='Cross-Validation Score')\n",
    "plt.xlabel('Feature Sets')\n",
    "plt.ylabel('Score')\n",
    "plt.xticks(rotation=45, ha=\"right\")  \n",
    "plt.legend(loc='best')\n",
    "plt.title('Cross-Validation Scores')\n",
    "\n",
    "for bar in bars:\n",
    "    plt.text(bar.get_x() + bar.get_width() / 2, bar.get_height(), f'{bar.get_height():.2f}', ha='center', va='bottom', fontsize=12, color='black')\n",
    "\n"
   ]
  }
 ],
 "metadata": {
  "kernelspec": {
   "display_name": "Python 3",
   "language": "python",
   "name": "python3"
  },
  "language_info": {
   "codemirror_mode": {
    "name": "ipython",
    "version": 3
   },
   "file_extension": ".py",
   "mimetype": "text/x-python",
   "name": "python",
   "nbconvert_exporter": "python",
   "pygments_lexer": "ipython3",
   "version": "3.9.5"
  }
 },
 "nbformat": 4,
 "nbformat_minor": 2
}
